{
 "cells": [
  {
   "cell_type": "code",
   "execution_count": 1,
   "metadata": {
    "colab": {},
    "colab_type": "code",
    "id": "QUR_8TxjwT6c"
   },
   "outputs": [],
   "source": [
    "import Graph_Amazon_Movies as gam\n",
    "import Amazon_Movie_Parser as amp\n",
    "import numpy as np\n",
    "import pandas as pd\n",
    "from networkx.algorithms import bipartite\n",
    "import networkx as nx\n",
    "import Amazon_Movie_Parser as prs\n",
    "import datetime\n",
    "from numpy import savetxt"
   ]
  },
  {
   "cell_type": "code",
   "execution_count": 2,
   "metadata": {},
   "outputs": [
    {
     "name": "stdout",
     "output_type": "stream",
     "text": [
      "no need for laptop\n"
     ]
    }
   ],
   "source": [
    "try:\n",
    "    # needed only if you don't have the movies.txt file in your local or colab directory\n",
    "    from google_drive_downloader import GoogleDriveDownloader as gdd\n",
    "    file_id1='1iytA1n2z4go3uVCwE__vIKouTKyIDjEq'\n",
    "    # movies.txt >> 9 GB data  ... below shared URL has the fileID to download\n",
    "    #https://drive.google.com/file/d/1cRLjG6Pl4JEag-utmD-7nLipzxCdmkiQ/view?usp=sharing\n",
    "    file_id2='1cRLjG6Pl4JEag-utmD-7nLipzxCdmkiQ'\n",
    "    gdd.download_file_from_google_drive(file_id=file_id2,\n",
    "                                        dest_path='data/movies.txt',\n",
    "                                        unzip=True)\n",
    "except:\n",
    "    print('no need for laptop')"
   ]
  },
  {
   "cell_type": "code",
   "execution_count": 3,
   "metadata": {
    "colab": {
     "base_uri": "https://localhost:8080/",
     "height": 1000
    },
    "colab_type": "code",
    "id": "a1kAkQrmwT6v",
    "outputId": "f2e28e13-c656-451e-e93e-ac83ee7289a9"
   },
   "outputs": [
    {
     "name": "stdout",
     "output_type": "stream",
     "text": [
      "Calculation time: 0:00:01.910700\n"
     ]
    }
   ],
   "source": [
    "start_time = datetime.datetime.now()\n",
    "grp = gam.Graph_Amazon()\n",
    "max_connected_gr_amazon_movies = grp.Create_Bipartite(file_name = 'data/movies.txt', \\\n",
    "                                                      n_movies = 10000, prs_out = 'dictionary')\n",
    "end_time = datetime.datetime.now()\n",
    "print('Calculation time: {}'.format(end_time-start_time))"
   ]
  },
  {
   "cell_type": "code",
   "execution_count": 4,
   "metadata": {
    "colab": {},
    "colab_type": "code",
    "id": "8eNkw4fK5Pgp"
   },
   "outputs": [],
   "source": [
    "bottom_nodes, top_nodes = bipartite.sets(max_connected_gr_amazon_movies)"
   ]
  },
  {
   "cell_type": "code",
   "execution_count": 5,
   "metadata": {
    "colab": {
     "base_uri": "https://localhost:8080/",
     "height": 35
    },
    "colab_type": "code",
    "id": "GnZtvh3A_Lqj",
    "outputId": "51f68ecd-6155-4ae0-b061-8afda0cf004e"
   },
   "outputs": [
    {
     "name": "stdout",
     "output_type": "stream",
     "text": [
      "max_connected_gr_amazon_movies:\n",
      "Movies: 167 ... starts with B: 134\n",
      "Users: 8183 ... starts with A: 8183\n",
      "Is connected: True ... Is bipartite: True\n"
     ]
    }
   ],
   "source": [
    "# Data check\n",
    "# some MOVIES don't start with B but instead full numbers like: 0790747324\n",
    "print('max_connected_gr_amazon_movies:')\n",
    "count_B = 0\n",
    "for movie in top_nodes:\n",
    "    if movie.startswith('B'):\n",
    "        count_B += 1\n",
    "\n",
    "print('Movies: {} ... starts with B: {}'.format(len(top_nodes), count_B))\n",
    "\n",
    "count_A=0\n",
    "for movie in bottom_nodes:\n",
    "    if movie.startswith('A'):\n",
    "        count_A += 1\n",
    "\n",
    "print('Users: {} ... starts with A: {}'.format(len(bottom_nodes), count_A))\n",
    "\n",
    "grp.Is_Connected_Bipartite(max_connected_gr_amazon_movies)\n",
    "# edges between movies\n",
    "#max_grp_top = bipartite.projected_graph(max_connected_gr_amazon_movies, grp.top_nodes)\n",
    "# shows all the records BEFORE picking up the MAX CONNECTED component - most likely it will be a DISCONNECTED GRAPH\n",
    "# returns a LIST\n",
    "#edge_list_ALL = grp.Get_All_Edges_with_Weight(grp.gr_amazon_movies)\n",
    "#print(edge_list_ALL[0:5])\n",
    "#edge_list_connected = grp.Get_All_Edges_with_Weight(max_connected_gr_amazon_movies)\n",
    "#list(max_connected_gr_amazon_movies.edges)[0:5]\n",
    "# shows the nodes of the max connected component/subgraph\n",
    "#grp.Show_Nodes()\n",
    "#if your graph is too BIG, it is better not to draw it, it takes time..\n",
    "#grp.Draw_Bipartite(max_connected_gr_amazon_movies)\n",
    "#shows the edges with weights\n",
    "#list(max_connected_gr_amazon_movies.edges.data('weight', default=1))[0:5]"
   ]
  },
  {
   "cell_type": "code",
   "execution_count": 6,
   "metadata": {
    "colab": {},
    "colab_type": "code",
    "id": "Ih_pWMfwwT9V"
   },
   "outputs": [
    {
     "name": "stdout",
     "output_type": "stream",
     "text": [
      "Graph info saved in: Movies_Connected_9253_12.5.2020_14.3.1.txt\n"
     ]
    }
   ],
   "source": [
    "#saves the movies/graph in the format of:\n",
    "'''\n",
    "A141HP4LYPW,B003AI2VGA,3.0\n",
    "A141HP4LYPW,B000063W1R,4.0\n",
    "A141HP4LYPW,6304286961,5.0\n",
    "'''\n",
    "#max_connected_gr_amazon_movies\n",
    "file_name_saved = amp.Save_Movies(max_connected_gr_amazon_movies)"
   ]
  },
  {
   "cell_type": "code",
   "execution_count": 7,
   "metadata": {
    "colab": {},
    "colab_type": "code",
    "id": "6kD31Ck8wT9g"
   },
   "outputs": [],
   "source": [
    "# returns a list in the format of:\n",
    "# [['userId', 'productId', 'score'], ['A141HP4LYPW', 'B003AI2VGA', '3.0']]\n",
    "#the_giant_component_read = amp.Read_Connected_Movies(\"Movies_Connected_4643_11.5.2020_21.11.17.txt\")\n",
    "the_giant_component_read = amp.Read_Connected_Movies(file_name_saved)\n",
    "#test[0].split(sep=\",\")"
   ]
  },
  {
   "cell_type": "code",
   "execution_count": 8,
   "metadata": {
    "colab": {},
    "colab_type": "code",
    "id": "Esv-XNKnwT90"
   },
   "outputs": [],
   "source": [
    "# it is mostly for a double check to see if the movies were saved to the file properly \n",
    "#and check if we read them and create a graph it will still be a connected graph or not\n",
    "grp_giant = grp.Create_Graph_From_List_WITH_Weight(the_giant_component_read)"
   ]
  },
  {
   "cell_type": "code",
   "execution_count": 9,
   "metadata": {},
   "outputs": [
    {
     "name": "stdout",
     "output_type": "stream",
     "text": [
      "BEFORE: # of nodes: 8350 ... # of edges: 9253\n",
      "AFTER: # of nodes: 8350 ... # of edges: 9253\n"
     ]
    }
   ],
   "source": [
    "# double check if the numbers are matching before saving the records\n",
    "# and after creating the graph from the saved file\n",
    "print('BEFORE: # of nodes: {} ... # of edges: {}'.format(len(max_connected_gr_amazon_movies.nodes), len(max_connected_gr_amazon_movies.edges)))\n",
    "print('AFTER: # of nodes: {} ... # of edges: {}'.format(len(grp_giant.nodes), len(grp_giant.edges)))"
   ]
  },
  {
   "cell_type": "code",
   "execution_count": 10,
   "metadata": {
    "colab": {
     "base_uri": "https://localhost:8080/",
     "height": 54
    },
    "colab_type": "code",
    "id": "R4pCuVroGJHQ",
    "outputId": "5cf6fc85-a9a8-4165-ef14-c62aff747ffb"
   },
   "outputs": [
    {
     "name": "stdout",
     "output_type": "stream",
     "text": [
      "Is connected: True ... Is bipartite: True\n"
     ]
    }
   ],
   "source": [
    "# here is the check of the graph read\n",
    "grp.Is_Connected_Bipartite(grp_giant)"
   ]
  },
  {
   "cell_type": "code",
   "execution_count": 11,
   "metadata": {
    "colab": {},
    "colab_type": "code",
    "id": "0l8iLwOgjQYv"
   },
   "outputs": [],
   "source": [
    "# this is to fetch all nodes without edges, so that we can use them to predict the edges\n",
    "grp_giant_no_edges = grp.Create_Graph_From_List_NO_EDGE(grp_giant)\n",
    "#if you check it, you'll see no edges but nodes\n",
    "#grp_giant_no_edges.edges\n",
    "#list(grp_giant_no_weights.nodes)[0:5]\n",
    "#grp.Is_Connected_Bipartite(grp_giant_no_weights)"
   ]
  },
  {
   "cell_type": "code",
   "execution_count": 12,
   "metadata": {},
   "outputs": [],
   "source": [
    "def Normalize_Array(arr_to_normalize, axis=0):\n",
    "    if axis == 1:\n",
    "        arr_sum_per_row = arr_to_normalize.sum(axis=1)\n",
    "        arr_norm = arr_to_normalize/np.tile(arr_sum_per_row, (arr_sum_per_row.shape[0], 1)).T\n",
    "    elif axis == 0:\n",
    "        arr_sum_per_row = arr_to_normalize.sum(axis=0)\n",
    "        arr_norm = arr_to_normalize/np.tile(arr_sum_per_row, (arr_sum_per_row.shape[1], 1)).T\n",
    "    return arr_norm\n",
    "\n",
    "# normalize P values (between 0 and 1) so that they can reflect probabilities \n",
    "# the probability with itself will be the highest\n",
    "# !!! IMPORTANT !!!\n",
    "# the probability with movie nodes will be ignored since we are looking for the relations(similarity-measure) \n",
    "# with other users\n",
    "#P_norm = np.round(Normalize_Array(P), 6)"
   ]
  },
  {
   "cell_type": "code",
   "execution_count": 89,
   "metadata": {},
   "outputs": [
    {
     "name": "stdout",
     "output_type": "stream",
     "text": [
      "node0=A141HP4LYPW .. node1=B003AI2VGA .. edge01=True .. weight01=3.0\n",
      "\n",
      "top_nodes=['B00004RQBF', 'B00000IC8K', '6304888465', 'B0076XTH8K', '6305508569', 'B000VHVGMI', 'B0000764K0', 'B0001G6PZC', 'B0030FT96S', 'B004GIZX3Q', 'B002B900BM', 'B000063W82', 'B0051ZIXMQ', 'B000UGBOT0', 'B000KGGJ0Y', 'B001E6JCBC', '630403945X', 'B0002PYS4M', 'B001GBPZRU', 'B00000IC8M', 'B0002RQ2VW', 'B001LMU1A0', 'B0000544LY', '6304286961', 'B00151QYU8', 'B000Q7ZNZ4', 'B004BH1TN0', '6302643651', 'B00000IC87', 'B00004RQB1', '6301325842', 'B000NVL49W', '6304091338', '6303257933', 'B000CDSS86', 'B000065K9R', 'B00004CQTP', 'B00008WFTU', 'B000NVL49M', 'B000CNET20', 'B004SCMGSU', 'B000A9QK8M', 'B00000IC82', 'B004EPYZQ2', 'B0085KGGLY', 'B003BGZ60Y', 'B001I7HLTW', 'B000IOM0RY', '630436119X', 'B001AQT0VI', 'B000NDFLWG', 'B000KGGJ0E', '6304179499', '6300157423', 'B003F41T2Q', '6304040164', 'B0071AD95K', 'B000ANVPPG', 'B0018PH3K6', 'B000T4SWXO', '6305538409', '0790750708', 'B000FVQLQQ', 'B002OHDRF2', '1562229567', '6301901274', 'B00013EY80', 'B004AX5J5E', 'B000CNET2A', 'B000065FKL', 'B005UYF7KY', 'B000CEXFBU', '6303998690', 'B003CJUWVI', 'B0009OUC5U', 'B000F6ZPKY', 'B00020HBN2', '6300147967', 'B009B6XA1U', 'B000063W1R', 'B001NZWEI2', 'B0041VEZVY', 'B00284EM3M', 'B000AMWIVM', '6301967917', 'B001MBE63I', 'B00096S43A', 'B00004RXMK', 'B003QWVPT4', 'B000KGGJ04', 'B0002BO0V2', 'B00022VM5I', 'B0007M21Y4', 'B00005952Q', 'B000ANVPPQ', 'B001N8Z8K0', 'B004X4ROPS', 'B00004CQTF', 'B00004CQT3', 'B0000BYRO7', '6302139724', 'B000065K9E', '0790747324', 'B0030ZOYW2', 'B005LXWYKU', 'B0031Z5RWC', 'B000IZJR3I', 'B0001EYSQC', '5556167281', 'B00096S43U', 'B00004CK9I', 'B000H5U5IU', 'B000I9WVZU', 'B0007Z9RCU', 'B001OKUREO', 'B0042800WE', 'B00005226W', 'B004EPYZQM', '6301723465', 'B0035YKW0Q', 'B005ZMBBRY', 'B00004RQBA', '6300246299', 'B000VHVGM8', 'B0014567LQ', 'B001PPLJN6', '078401115X', 'B001NZWEIC', 'B0019RP6KC', 'B0048KQQC4', 'B00008WFTV', 'B0016OLXN2', 'B00000IC8E', '6303704840', 'B0009OL90W', 'B0041XQRR2', 'B0009Y2LTU', '6304204019', 'B0002V7TJC', 'B00000IC8F', 'B001EI5BWE', 'B000056PNV', 'B002G4RDAI', 'B002B7CFR6', 'B007CU8PAI', 'B0095D5454', 'B006FYGF8Q', 'B008FPU7AA', '6302405688', '6305074054', '6300266850', 'B0012EM5GK', 'B007NF02Q2', 'B003AI2VGA', '0800103688', 'B00000IC80', 'B0023S4A12', 'B008R52L48', 'B000I9WVZA', 'B0092MDYV4', 'B0078V2LCY', 'B00284EM3C', '6301699599', 'B0013Z70YA', '6301387090', 'B007EMEOEA', 'B00742GOP2']\n"
     ]
    }
   ],
   "source": [
    "P = nx.to_numpy_matrix(max_connected_gr_amazon_movies)\n",
    "P_norm = Normalize_Array(P)\n",
    "\n",
    "#print(P)\n",
    "\n",
    "# TEST - see if the matrix-P shows the correct values (to be sure if it's not changing the order)\n",
    "# !!! IMPORTANT !!!\n",
    "# apparently, it doesn't write the movies first and users last or doesn't follow any order..\n",
    "node_0 = list(max_connected_gr_amazon_movies.nodes)[0]\n",
    "node_1 = list(max_connected_gr_amazon_movies.nodes)[1]\n",
    "edge_01 = max_connected_gr_amazon_movies.has_edge(node_0, node_1)\n",
    "if edge_01 == True:\n",
    "    weight_01 = max_connected_gr_amazon_movies.get_edge_data(node_0, node_1)['weight']\n",
    "\n",
    "# Bxxxxxx = top_nodes = movies\n",
    "print('node0={} .. node1={} .. edge01={} .. weight01={}'.format(node_0, node_1, edge_01, weight_01))\n",
    "node_list = list(max_connected_gr_amazon_movies.nodes)\n",
    "bottom_node_list = list(bottom_nodes)\n",
    "top_node_list = list(top_nodes)\n",
    "#print(node_list)\n",
    "#print('\\nbottom_nodes={}'.format(bottom_node_list))\n",
    "print('\\ntop_nodes={}'.format(top_node_list))\n",
    "\n",
    "n_nodes = P_norm.shape[0]\n",
    "# initiate R matrix which includes the r values of each node and\n",
    "# having the highest relation of the node by itself, setting the diagonal to 1\n",
    "R = np.diag(np.ones(n_nodes), 0)\n",
    "beta = 0.15\n",
    "#R *= beta\n",
    "R_zero = R.copy()\n",
    "#print(P)\n",
    "#print(P_norm)\n",
    "#print(R)\n",
    "#print(R_zero)"
   ]
  },
  {
   "cell_type": "code",
   "execution_count": 91,
   "metadata": {},
   "outputs": [
    {
     "name": "stdout",
     "output_type": "stream",
     "text": [
      "this is a user: A141HP4LYPW\n"
     ]
    }
   ],
   "source": [
    "# Bxxxxxx = top_nodes = movies\n",
    "node_check = node_list[0]\n",
    "if node_check in top_node_list:\n",
    "    print('this is a movie: {}'.format(node_check))\n",
    "else:\n",
    "    print('this is a user: {}'.format(node_check))"
   ]
  },
  {
   "cell_type": "code",
   "execution_count": 92,
   "metadata": {},
   "outputs": [
    {
     "data": {
      "text/plain": [
       "[('A141HP4LYPW', 'B003AI2VGA'),\n",
       " ('A141HP4LYPW', 'B000063W1R'),\n",
       " ('A141HP4LYPW', '6304286961'),\n",
       " ('A141HP4LYPW', '5556167281'),\n",
       " ('A141HP4LYPW', '6303998690'),\n",
       " ('A141HP4LYPW', 'B000AMWIVM')]"
      ]
     },
     "execution_count": 92,
     "metadata": {},
     "output_type": "execute_result"
    }
   ],
   "source": [
    "list(max_connected_gr_amazon_movies.edges([node_list[0]]))\n",
    "#max_connected_gr_amazon_movies.edges(['B003AI2VGA']) \n",
    "#nx.edges(max_connected_gr_amazon_movies, ['B003AI2VGA'])\n",
    "#node_list.index('B003AI2VGA')"
   ]
  },
  {
   "cell_type": "code",
   "execution_count": 93,
   "metadata": {},
   "outputs": [
    {
     "name": "stdout",
     "output_type": "stream",
     "text": [
      "[1, 9, 34, 37, 47, 57, 365, 383, 394, 579, 581, 1111, 1117, 1128, 1130, 1132, 1520, 1558, 1585, 1603, 1629, 1633, 1705, 1713, 1747, 1777, 1954, 1956, 2097, 2100, 2230, 2234, 2238, 2822, 2827, 2830, 2835, 2852, 2879, 3020, 3095, 3101, 3241, 3273, 3288, 3300, 3450, 3513, 3523, 3947, 3973, 3975, 3980, 4008, 4052, 4085, 4086, 4088, 4095, 4099, 4115, 4387, 4391, 4403, 4406, 4414, 4422, 4425, 4466, 4508, 4510, 4520, 4565, 4566, 4567, 4610, 4670, 4672, 4774, 4813, 4840, 4993, 5027, 5267, 5269, 5273, 5280, 5284, 5349, 5388, 5464, 5540, 5560, 5571, 5592, 5599, 5763, 5771, 5790, 5798, 5809, 5825, 5847, 5875, 5899, 6045, 6047, 6059, 6111, 6118, 6122, 6155, 6175, 6200, 6207, 6240, 6244, 6254, 6259, 6266, 6274, 6279, 6290, 6294, 6303, 6370, 6383, 6391, 6656, 6675, 6712, 6719, 6722, 6728, 6734, 6746, 6761, 6805, 6817, 6891, 6892, 6903, 6907, 7047, 7098, 7111, 7113, 7151, 7153, 7220, 7236, 7509, 7525, 7921, 8075, 8078, 8100, 8110, 8128, 8129, 8131, 8145, 8204, 8231, 8233, 8238, 8270]\n"
     ]
    }
   ],
   "source": [
    "user_indexes = []\n",
    "movie_indexes = []\n",
    "for nn in node_list:\n",
    "    if nn in bottom_node_list:\n",
    "        user_indexes.append(node_list.index(nn))\n",
    "    else:\n",
    "        movie_indexes.append(node_list.index(nn))\n",
    "\n",
    "print(movie_indexes)\n",
    "# users are usually too many, so will not print them\n",
    "#print(user_indexes)"
   ]
  },
  {
   "cell_type": "code",
   "execution_count": 17,
   "metadata": {},
   "outputs": [],
   "source": [
    "# SUM-check\n",
    "#print('SUM-check')\n",
    "#P_norm.sum(axis=1)"
   ]
  },
  {
   "cell_type": "code",
   "execution_count": 18,
   "metadata": {},
   "outputs": [],
   "source": [
    "#savetxt(amp.FileNameUnique(prefix = \"P_norm_\", suffix = '.csv'), P_norm, delimiter=',')"
   ]
  },
  {
   "cell_type": "code",
   "execution_count": 19,
   "metadata": {},
   "outputs": [],
   "source": [
    "#df_movies = amp.Reorganize_Edges_DataFrame(max_connected_gr_amazon_movies, input_type = 'Graph')"
   ]
  },
  {
   "cell_type": "code",
   "execution_count": 94,
   "metadata": {},
   "outputs": [
    {
     "name": "stdout",
     "output_type": "stream",
     "text": [
      "step-0 completed .. date: 2020-05-12 14:43:33.578855\n",
      "step-1 completed .. date: 2020-05-12 14:43:42.034392\n",
      "step-2 completed .. date: 2020-05-12 14:43:50.141653\n",
      "step-3 completed .. date: 2020-05-12 14:43:58.315293\n"
     ]
    }
   ],
   "source": [
    "n_steps = 4\n",
    "\n",
    "for i in range(n_steps):\n",
    "    R = (1-beta)*np.dot(P_norm, R) + beta*R_zero\n",
    "    print('step-{} completed .. date: {}'.format(i, datetime.datetime.now()))\n",
    "    \n",
    "#print(R)"
   ]
  },
  {
   "cell_type": "code",
   "execution_count": 99,
   "metadata": {},
   "outputs": [
    {
     "name": "stdout",
     "output_type": "stream",
     "text": [
      "R matrix values for the user (r vector of the user): \n",
      "[[[2.18064548e-04 9.23411184e-03 8.50471378e-01 ... 1.33747041e-09\n",
      "   1.78329388e-09 2.22911735e-09]]]\n",
      "Top similarities: [3277, 3279, 3280, 3284, 3285, 547, 5, 4, 0, 3]\n"
     ]
    }
   ],
   "source": [
    "# user similarity check\n",
    "# fetch the values for node=0 (which is a user)\n",
    "ref_user_idx = 2\n",
    "# we will pick the most similar 10 users in this case\n",
    "top_similarity = 10\n",
    "user_test = np.array(list(R[ref_user_idx]))\n",
    "print('R matrix values for the user (r vector of the user): \\n{}'.format(user_test))\n",
    "\n",
    "# sort the values of each column from smaller to the bigger\n",
    "sorted_nodes = np.argsort(user_test)\n",
    "\n",
    "user_similarity = []\n",
    "\n",
    "# we will not consider the user himself or movies as similar nodes\n",
    "for idx in sorted_nodes[0][0]:\n",
    "    if idx != ref_user_idx and idx not in movie_indexes:\n",
    "        user_similarity.append(idx)\n",
    "        \n",
    "user_similarity_top = user_similarity[-top_similarity:]\n",
    "\n",
    "# ALL is too many, so we will not print it\n",
    "#print('Ordered similarities-ALL: {}'.format(user_similarity))\n",
    "print('Top similarities: {}'.format(user_similarity_top))\n",
    "\n",
    "#for usr in user_similarity_top:\n",
    "#    print(list(max_connected_gr_amazon_movies.nodes)[user_similarity_top[usr]])\n",
    "#print(list(max_connected_gr_amazon_movies.nodes)[user_similarity_top[0]])\n"
   ]
  },
  {
   "cell_type": "code",
   "execution_count": 100,
   "metadata": {},
   "outputs": [],
   "source": [
    "# top_nodes = MOVIES, bottom_nodes = users\n",
    "user_reviewed = []\n",
    "user_reviewed_id = []\n",
    "movie_list_ref = []\n",
    "movie_reviewed = []\n",
    "movie_reviewed_id = []\n",
    "is_reviewed = []\n",
    "movie_score = []\n",
    "review_count_list = []\n",
    "\n",
    "movie_by_reference_user = list(max_connected_gr_amazon_movies.edges([node_list[ref_user_idx]]))\n",
    "\n",
    "for edge_m in movie_by_reference_user:\n",
    "    # if the second item is a user then we will add the first item to the movie_list\n",
    "    if edge_m[1].startswith('A'):\n",
    "        movie_list_ref.append(edge_m[0])\n",
    "    else:\n",
    "        movie_list_ref.append(edge_m[1])\n",
    "\n",
    "for u_idx in user_similarity_top:\n",
    "    user_name = node_list[u_idx]\n",
    "    for m in movie_list_ref:\n",
    "        m_idx = node_list.index(m)\n",
    "        is_reviewed.append(max_connected_gr_amazon_movies.has_edge(user_name, m))\n",
    "        user_reviewed.append(user_name)\n",
    "        user_reviewed_id.append(u_idx)\n",
    "        movie_reviewed.append(m)\n",
    "        movie_reviewed_id.append(m_idx)\n",
    "        try:\n",
    "            scr = max_connected_gr_amazon_movies.get_edge_data(user_name, m)['weight']\n",
    "        except:\n",
    "            scr = 'NA'\n",
    "        #scr = str(max_connected_gr_amazon_movies.get_edge_data(node_list[u_idx], m)['weight'])\n",
    "        #max_connected_gr_amazon_movies.get_edge_data(node_list[u_idx], 'B003AI2VGA')['weight']\n",
    "        movie_score.append(scr)\n",
    "        review_count = len(list(max_connected_gr_amazon_movies.edges([m])))\n",
    "        review_count_list.append(review_count)\n",
    "        \n",
    "        #is_reviewed = max_connected_gr_amazon_movies.get_edge_data(u, m)['weight']\n",
    "\n",
    "\n",
    "dict_summary = {'user': user_reviewed, 'movie': movie_reviewed, \n",
    "                'user_id': user_reviewed_id, 'movie_id': movie_reviewed_id, \n",
    "                'is_reviewed': is_reviewed, 'score': movie_score,\n",
    "               'n_review': review_count_list}\n",
    "\n",
    "'''\n",
    "dict_summary = {'user': user_reviewed, 'movie': movie_reviewed, \n",
    "                'user_id': user_reviewed_id, 'movie_id': movie_reviewed_id, \n",
    "                'is_reviewed': is_reviewed}\n",
    "'''\n",
    "\n",
    "df_summary = pd.DataFrame(dict_summary)"
   ]
  },
  {
   "cell_type": "code",
   "execution_count": 97,
   "metadata": {},
   "outputs": [
    {
     "name": "stdout",
     "output_type": "stream",
     "text": [
      "[('A328S9RN3U5', 'B003AI2VGA'), ('A328S9RN3U5', 'B000063W1R'), ('A328S9RN3U5', 'B0001G6PZC'), ('A328S9RN3U5', 'B00022VM5I'), ('A328S9RN3U5', 'B001MBE63I'), ('A328S9RN3U5', 'B004EPYZQ2'), ('A328S9RN3U5', 'B000Q7ZNZ4'), ('A328S9RN3U5', 'B004EPYZQM'), ('A328S9RN3U5', 'B001OKUREO'), ('A328S9RN3U5', 'B000AMWIVM')]\n"
     ]
    }
   ],
   "source": [
    "print(movie_by_reference_user)"
   ]
  },
  {
   "cell_type": "code",
   "execution_count": 101,
   "metadata": {},
   "outputs": [
    {
     "name": "stdout",
     "output_type": "stream",
     "text": [
      "40.0\n"
     ]
    }
   ],
   "source": [
    "true_values=len(df_summary.query(\"movie=='B003AI2VGA' and is_reviewed==True\"))\n",
    "total_values=len(df_summary.query(\"movie=='B003AI2VGA'\"))\n",
    "\n",
    "# review ratio by similar users\n",
    "ratio_similar = true_values/total_values*100\n",
    "print(ratio_similar)"
   ]
  },
  {
   "cell_type": "code",
   "execution_count": 102,
   "metadata": {},
   "outputs": [
    {
     "name": "stdout",
     "output_type": "stream",
     "text": [
      "Total # of MOVIEs: 167 USERS: 8183 REVIEWs: 9253,  in the graph\n",
      "                  user-movie  ratio_similar  review_count\n",
      "0  (A328S9RN3U5, B003AI2VGA)           40.0             7\n",
      "1  (A328S9RN3U5, B000063W1R)           10.0           309\n",
      "2  (A328S9RN3U5, B0001G6PZC)            0.0           539\n",
      "3  (A328S9RN3U5, B00022VM5I)            0.0            98\n",
      "4  (A328S9RN3U5, B001MBE63I)           60.0            17\n",
      "5  (A328S9RN3U5, B004EPYZQ2)            0.0           467\n",
      "6  (A328S9RN3U5, B000Q7ZNZ4)            0.0            48\n",
      "7  (A328S9RN3U5, B004EPYZQM)            0.0           273\n",
      "8  (A328S9RN3U5, B001OKUREO)            0.0           199\n",
      "9  (A328S9RN3U5, B000AMWIVM)           10.0           492\n"
     ]
    }
   ],
   "source": [
    "ratio_review_list = []\n",
    "review_count_list2 = []\n",
    "\n",
    "for m in movie_list_ref:\n",
    "    true_values = len(df_summary.query(\"movie=='\" + m + \"' and is_reviewed==True\"))\n",
    "    total_values = len(df_summary.query(\"movie=='\" + m + \"'\"))\n",
    "    review_count = len(list(max_connected_gr_amazon_movies.edges([m])))\n",
    "    # review ratio by similar users\n",
    "    ratio_similar = true_values/total_values*100\n",
    "    ratio_review_list.append(ratio_similar)\n",
    "    review_count_list2.append(review_count)\n",
    "\n",
    "#dict_summary_ratio = {'movie': movie_list_ref, 'ratio_similar': ratio_review_list}\n",
    "dict_summary_ratio = {'user-movie': movie_by_reference_user, 'ratio_similar': ratio_review_list,\n",
    "                     'review_count': review_count_list2}\n",
    "\n",
    "df_summary_ratio = pd.DataFrame(dict_summary_ratio)\n",
    "n_reviews = len(max_connected_gr_amazon_movies.edges)\n",
    "n_users = len(bottom_nodes)\n",
    "n_movies = len(top_nodes)\n",
    "print('Total # of MOVIEs: {} USERS: {} REVIEWs: {},  in the graph'.format(n_movies, n_users, n_reviews))\n",
    "print(df_summary_ratio)"
   ]
  },
  {
   "cell_type": "code",
   "execution_count": 38,
   "metadata": {},
   "outputs": [
    {
     "data": {
      "text/plain": [
       "7"
      ]
     },
     "execution_count": 38,
     "metadata": {},
     "output_type": "execute_result"
    }
   ],
   "source": [
    "len(list(max_connected_gr_amazon_movies.edges(['B003AI2VGA'])))"
   ]
  },
  {
   "cell_type": "code",
   "execution_count": 31,
   "metadata": {},
   "outputs": [
    {
     "data": {
      "text/html": [
       "<div>\n",
       "<style scoped>\n",
       "    .dataframe tbody tr th:only-of-type {\n",
       "        vertical-align: middle;\n",
       "    }\n",
       "\n",
       "    .dataframe tbody tr th {\n",
       "        vertical-align: top;\n",
       "    }\n",
       "\n",
       "    .dataframe thead th {\n",
       "        text-align: right;\n",
       "    }\n",
       "</style>\n",
       "<table border=\"1\" class=\"dataframe\">\n",
       "  <thead>\n",
       "    <tr style=\"text-align: right;\">\n",
       "      <th></th>\n",
       "      <th>user</th>\n",
       "      <th>movie</th>\n",
       "      <th>user_id</th>\n",
       "      <th>movie_id</th>\n",
       "      <th>is_reviewed</th>\n",
       "    </tr>\n",
       "  </thead>\n",
       "  <tbody>\n",
       "    <tr>\n",
       "      <td>7</td>\n",
       "      <td>A2NJO6YE954</td>\n",
       "      <td>B000063W1R</td>\n",
       "      <td>318</td>\n",
       "      <td>57</td>\n",
       "      <td>True</td>\n",
       "    </tr>\n",
       "    <tr>\n",
       "      <td>49</td>\n",
       "      <td>A328S9RN3U5</td>\n",
       "      <td>B000063W1R</td>\n",
       "      <td>2</td>\n",
       "      <td>57</td>\n",
       "      <td>True</td>\n",
       "    </tr>\n",
       "  </tbody>\n",
       "</table>\n",
       "</div>"
      ],
      "text/plain": [
       "           user       movie  user_id  movie_id  is_reviewed\n",
       "7   A2NJO6YE954  B000063W1R      318        57         True\n",
       "49  A328S9RN3U5  B000063W1R        2        57         True"
      ]
     },
     "execution_count": 31,
     "metadata": {},
     "output_type": "execute_result"
    }
   ],
   "source": [
    "df_summary.query(\"movie=='B000063W1R' and is_reviewed==True\")"
   ]
  },
  {
   "cell_type": "code",
   "execution_count": 104,
   "metadata": {},
   "outputs": [
    {
     "name": "stdout",
     "output_type": "stream",
     "text": [
      "           user       movie  user_id  movie_id  is_reviewed score  n_review\n",
      "0   AJOKH0DVQHA  B003AI2VGA     3277         1        False    NA         7\n",
      "1   AJOKH0DVQHA  B000063W1R     3277        57        False    NA       309\n",
      "2   AJOKH0DVQHA  B0001G6PZC     3277       581        False    NA       539\n",
      "3   AJOKH0DVQHA  B00022VM5I     3277      3020        False    NA        98\n",
      "4   AJOKH0DVQHA  B001MBE63I     3277      3273         True   5.0        17\n",
      "5   AJOKH0DVQHA  B004EPYZQ2     3277      3523        False    NA       467\n",
      "6   AJOKH0DVQHA  B000Q7ZNZ4     3277      4466        False    NA        48\n",
      "7   AJOKH0DVQHA  B004EPYZQM     3277      5027        False    NA       273\n",
      "8   AJOKH0DVQHA  B001OKUREO     3277      6907        False    NA       199\n",
      "9   AJOKH0DVQHA  B000AMWIVM     3277      7525        False    NA       492\n",
      "10  A3JMB1BG9WH  B003AI2VGA     3279         1        False    NA         7\n",
      "11  A3JMB1BG9WH  B000063W1R     3279        57        False    NA       309\n",
      "12  A3JMB1BG9WH  B0001G6PZC     3279       581        False    NA       539\n",
      "13  A3JMB1BG9WH  B00022VM5I     3279      3020        False    NA        98\n",
      "14  A3JMB1BG9WH  B001MBE63I     3279      3273         True   5.0        17\n",
      "15  A3JMB1BG9WH  B004EPYZQ2     3279      3523        False    NA       467\n",
      "16  A3JMB1BG9WH  B000Q7ZNZ4     3279      4466        False    NA        48\n",
      "17  A3JMB1BG9WH  B004EPYZQM     3279      5027        False    NA       273\n",
      "18  A3JMB1BG9WH  B001OKUREO     3279      6907        False    NA       199\n",
      "19  A3JMB1BG9WH  B000AMWIVM     3279      7525        False    NA       492\n",
      "20  A3P4YD9ORCY  B003AI2VGA     3280         1        False    NA         7\n",
      "21  A3P4YD9ORCY  B000063W1R     3280        57        False    NA       309\n",
      "22  A3P4YD9ORCY  B0001G6PZC     3280       581        False    NA       539\n",
      "23  A3P4YD9ORCY  B00022VM5I     3280      3020        False    NA        98\n",
      "24  A3P4YD9ORCY  B001MBE63I     3280      3273         True   5.0        17\n",
      "25  A3P4YD9ORCY  B004EPYZQ2     3280      3523        False    NA       467\n",
      "26  A3P4YD9ORCY  B000Q7ZNZ4     3280      4466        False    NA        48\n",
      "27  A3P4YD9ORCY  B004EPYZQM     3280      5027        False    NA       273\n",
      "28  A3P4YD9ORCY  B001OKUREO     3280      6907        False    NA       199\n",
      "29  A3P4YD9ORCY  B000AMWIVM     3280      7525        False    NA       492\n",
      "30  A26239BNZVA  B003AI2VGA     3284         1        False    NA         7\n",
      "31  A26239BNZVA  B000063W1R     3284        57        False    NA       309\n",
      "32  A26239BNZVA  B0001G6PZC     3284       581        False    NA       539\n",
      "33  A26239BNZVA  B00022VM5I     3284      3020        False    NA        98\n",
      "34  A26239BNZVA  B001MBE63I     3284      3273         True   5.0        17\n",
      "35  A26239BNZVA  B004EPYZQ2     3284      3523        False    NA       467\n",
      "36  A26239BNZVA  B000Q7ZNZ4     3284      4466        False    NA        48\n",
      "37  A26239BNZVA  B004EPYZQM     3284      5027        False    NA       273\n",
      "38  A26239BNZVA  B001OKUREO     3284      6907        False    NA       199\n",
      "39  A26239BNZVA  B000AMWIVM     3284      7525        False    NA       492\n",
      "40  A1615MDR9N1  B003AI2VGA     3285         1        False    NA         7\n",
      "41  A1615MDR9N1  B000063W1R     3285        57        False    NA       309\n",
      "42  A1615MDR9N1  B0001G6PZC     3285       581        False    NA       539\n",
      "43  A1615MDR9N1  B00022VM5I     3285      3020        False    NA        98\n",
      "44  A1615MDR9N1  B001MBE63I     3285      3273         True   5.0        17\n",
      "45  A1615MDR9N1  B004EPYZQ2     3285      3523        False    NA       467\n",
      "46  A1615MDR9N1  B000Q7ZNZ4     3285      4466        False    NA        48\n",
      "47  A1615MDR9N1  B004EPYZQM     3285      5027        False    NA       273\n",
      "48  A1615MDR9N1  B001OKUREO     3285      6907        False    NA       199\n",
      "49  A1615MDR9N1  B000AMWIVM     3285      7525        False    NA       492\n",
      "50  AUM3YMZ0YRJ  B003AI2VGA      547         1        False    NA         7\n",
      "51  AUM3YMZ0YRJ  B000063W1R      547        57        False    NA       309\n",
      "52  AUM3YMZ0YRJ  B0001G6PZC      547       581        False    NA       539\n",
      "53  AUM3YMZ0YRJ  B00022VM5I      547      3020        False    NA        98\n",
      "54  AUM3YMZ0YRJ  B001MBE63I      547      3273         True   5.0        17\n",
      "55  AUM3YMZ0YRJ  B004EPYZQ2      547      3523        False    NA       467\n",
      "56  AUM3YMZ0YRJ  B000Q7ZNZ4      547      4466        False    NA        48\n",
      "57  AUM3YMZ0YRJ  B004EPYZQM      547      5027        False    NA       273\n",
      "58  AUM3YMZ0YRJ  B001OKUREO      547      6907        False    NA       199\n",
      "59  AUM3YMZ0YRJ  B000AMWIVM      547      7525        False    NA       492\n",
      "60  ATXL536YX71  B003AI2VGA        5         1         True   3.0         7\n",
      "61  ATXL536YX71  B000063W1R        5        57        False    NA       309\n",
      "62  ATXL536YX71  B0001G6PZC        5       581        False    NA       539\n",
      "63  ATXL536YX71  B00022VM5I        5      3020        False    NA        98\n",
      "64  ATXL536YX71  B001MBE63I        5      3273        False    NA        17\n",
      "65  ATXL536YX71  B004EPYZQ2        5      3523        False    NA       467\n",
      "66  ATXL536YX71  B000Q7ZNZ4        5      4466        False    NA        48\n",
      "67  ATXL536YX71  B004EPYZQM        5      5027        False    NA       273\n",
      "68  ATXL536YX71  B001OKUREO        5      6907        False    NA       199\n",
      "69  ATXL536YX71  B000AMWIVM        5      7525        False    NA       492\n",
      "70  A1M5405JH9T  B003AI2VGA        4         1         True   3.0         7\n",
      "71  A1M5405JH9T  B000063W1R        4        57        False    NA       309\n",
      "72  A1M5405JH9T  B0001G6PZC        4       581        False    NA       539\n",
      "73  A1M5405JH9T  B00022VM5I        4      3020        False    NA        98\n",
      "74  A1M5405JH9T  B001MBE63I        4      3273        False    NA        17\n",
      "75  A1M5405JH9T  B004EPYZQ2        4      3523        False    NA       467\n",
      "76  A1M5405JH9T  B000Q7ZNZ4        4      4466        False    NA        48\n",
      "77  A1M5405JH9T  B004EPYZQM        4      5027        False    NA       273\n",
      "78  A1M5405JH9T  B001OKUREO        4      6907        False    NA       199\n",
      "79  A1M5405JH9T  B000AMWIVM        4      7525        False    NA       492\n",
      "80  A141HP4LYPW  B003AI2VGA        0         1         True   3.0         7\n",
      "81  A141HP4LYPW  B000063W1R        0        57         True   4.0       309\n",
      "82  A141HP4LYPW  B0001G6PZC        0       581        False    NA       539\n",
      "83  A141HP4LYPW  B00022VM5I        0      3020        False    NA        98\n",
      "84  A141HP4LYPW  B001MBE63I        0      3273        False    NA        17\n",
      "85  A141HP4LYPW  B004EPYZQ2        0      3523        False    NA       467\n",
      "86  A141HP4LYPW  B000Q7ZNZ4        0      4466        False    NA        48\n",
      "87  A141HP4LYPW  B004EPYZQM        0      5027        False    NA       273\n",
      "88  A141HP4LYPW  B001OKUREO        0      6907        False    NA       199\n",
      "89  A141HP4LYPW  B000AMWIVM        0      7525         True   3.0       492\n",
      "90  A1I7QGUDP04  B003AI2VGA        3         1         True   5.0         7\n",
      "91  A1I7QGUDP04  B000063W1R        3        57        False    NA       309\n",
      "92  A1I7QGUDP04  B0001G6PZC        3       581        False    NA       539\n",
      "93  A1I7QGUDP04  B00022VM5I        3      3020        False    NA        98\n",
      "94  A1I7QGUDP04  B001MBE63I        3      3273        False    NA        17\n",
      "95  A1I7QGUDP04  B004EPYZQ2        3      3523        False    NA       467\n",
      "96  A1I7QGUDP04  B000Q7ZNZ4        3      4466        False    NA        48\n",
      "97  A1I7QGUDP04  B004EPYZQM        3      5027        False    NA       273\n",
      "98  A1I7QGUDP04  B001OKUREO        3      6907        False    NA       199\n",
      "99  A1I7QGUDP04  B000AMWIVM        3      7525        False    NA       492\n"
     ]
    }
   ],
   "source": [
    "#pd.set_option('display.height', 500)\n",
    "pd.set_option('display.max_rows', 500)\n",
    "print(df_summary)"
   ]
  },
  {
   "cell_type": "code",
   "execution_count": 48,
   "metadata": {},
   "outputs": [
    {
     "name": "stdout",
     "output_type": "stream",
     "text": [
      "3.0\n",
      "B00004CQT3\n"
     ]
    }
   ],
   "source": [
    "## TEST\n",
    "u_idx = 0\n",
    "#weight_tst = max_connected_gr_amazon_movies.get_edge_data(node_list[u_idx], 'A141HP4LYPW')['weight']\n",
    "weight_tst = max_connected_gr_amazon_movies.get_edge_data(node_list[u_idx], 'B003AI2VGA')['weight']\n",
    "print(weight_tst)\n",
    "list(max_connected_gr_amazon_movies.edges([node_list[u_idx]]))\n",
    "print(node_list[9])"
   ]
  },
  {
   "cell_type": "code",
   "execution_count": 46,
   "metadata": {},
   "outputs": [
    {
     "data": {
      "text/plain": [
       "NoneType"
      ]
     },
     "execution_count": 46,
     "metadata": {},
     "output_type": "execute_result"
    }
   ],
   "source": [
    "type(max_connected_gr_amazon_movies.get_edge_data(node_list[u_idx], 'B003AI2VGA'))"
   ]
  },
  {
   "cell_type": "code",
   "execution_count": 47,
   "metadata": {},
   "outputs": [
    {
     "data": {
      "text/plain": [
       "networkx.classes.graph.Graph"
      ]
     },
     "execution_count": 47,
     "metadata": {},
     "output_type": "execute_result"
    }
   ],
   "source": [
    "type(max_connected_gr_amazon_movies)"
   ]
  },
  {
   "cell_type": "code",
   "execution_count": null,
   "metadata": {},
   "outputs": [],
   "source": [
    "u_idx = 9\n",
    "m='B003AI2VGA'\n",
    "#max_connected_gr_amazon_movies.get_edge_data(node_list[u_idx], 'A141HP4LYPW')['weight']\n",
    "type(max_connected_gr_amazon_movies.get_edge_data(node_list[u_idx], m)['weight'])"
   ]
  }
 ],
 "metadata": {
  "colab": {
   "collapsed_sections": [],
   "name": "Amazon_movies.ipynb",
   "provenance": []
  },
  "kernelspec": {
   "display_name": "Python 3",
   "language": "python",
   "name": "python3"
  },
  "language_info": {
   "codemirror_mode": {
    "name": "ipython",
    "version": 3
   },
   "file_extension": ".py",
   "mimetype": "text/x-python",
   "name": "python",
   "nbconvert_exporter": "python",
   "pygments_lexer": "ipython3",
   "version": "3.7.4"
  }
 },
 "nbformat": 4,
 "nbformat_minor": 1
}
