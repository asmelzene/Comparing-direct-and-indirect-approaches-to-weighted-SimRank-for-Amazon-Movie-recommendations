{
 "cells": [
  {
   "cell_type": "code",
   "execution_count": 1,
   "metadata": {
    "colab": {},
    "colab_type": "code",
    "id": "QUR_8TxjwT6c"
   },
   "outputs": [],
   "source": [
    "import Graph_Amazon_Movies as gam\n",
    "import Amazon_Movie_Parser as amp\n",
    "import numpy as np\n",
    "from networkx.algorithms import bipartite\n",
    "import networkx as nx\n",
    "import Amazon_Movie_Parser as prs\n",
    "import datetime\n",
    "from numpy import savetxt"
   ]
  },
  {
   "cell_type": "code",
   "execution_count": 2,
   "metadata": {
    "colab": {
     "base_uri": "https://localhost:8080/",
     "height": 1000
    },
    "colab_type": "code",
    "id": "a1kAkQrmwT6v",
    "outputId": "f2e28e13-c656-451e-e93e-ac83ee7289a9"
   },
   "outputs": [
    {
     "name": "stdout",
     "output_type": "stream",
     "text": [
      "Calculation time: 0:00:00.136464\n"
     ]
    }
   ],
   "source": [
    "start_time = datetime.datetime.now()\n",
    "grp = gam.Graph_Amazon()\n",
    "max_connected_gr_amazon_movies = grp.Create_Bipartite(file_name = 'data/movies.txt', \\\n",
    "                                                      n_movies = 2000, prs_out = 'dictionary')\n",
    "end_time = datetime.datetime.now()\n",
    "print('Calculation time: {}'.format(end_time-start_time))"
   ]
  },
  {
   "cell_type": "code",
   "execution_count": 3,
   "metadata": {
    "colab": {},
    "colab_type": "code",
    "id": "8eNkw4fK5Pgp"
   },
   "outputs": [],
   "source": [
    "bottom_nodes, top_nodes = bipartite.sets(max_connected_gr_amazon_movies)"
   ]
  },
  {
   "cell_type": "code",
   "execution_count": 4,
   "metadata": {
    "colab": {
     "base_uri": "https://localhost:8080/",
     "height": 35
    },
    "colab_type": "code",
    "id": "GnZtvh3A_Lqj",
    "outputId": "51f68ecd-6155-4ae0-b061-8afda0cf004e"
   },
   "outputs": [
    {
     "name": "stdout",
     "output_type": "stream",
     "text": [
      "max_connected_gr_amazon_movies:\n",
      "Movies: 20 ... starts with B: 15\n",
      "Users: 1832 ... starts with A: 1832\n",
      "Is connected: True ... Is bipartite: True\n"
     ]
    }
   ],
   "source": [
    "# Data check\n",
    "# some MOVIES don't start with B but instead full numbers like: 0790747324\n",
    "print('max_connected_gr_amazon_movies:')\n",
    "count_B = 0\n",
    "for movie in top_nodes:\n",
    "    if movie.startswith('B'):\n",
    "        count_B += 1\n",
    "\n",
    "print('Movies: {} ... starts with B: {}'.format(len(top_nodes), count_B))\n",
    "\n",
    "count_A=0\n",
    "for movie in bottom_nodes:\n",
    "    if movie.startswith('A'):\n",
    "        count_A += 1\n",
    "\n",
    "print('Users: {} ... starts with A: {}'.format(len(bottom_nodes), count_A))\n",
    "\n",
    "grp.Is_Connected_Bipartite(max_connected_gr_amazon_movies)\n",
    "# edges between movies\n",
    "#max_grp_top = bipartite.projected_graph(max_connected_gr_amazon_movies, grp.top_nodes)\n",
    "# shows all the records BEFORE picking up the MAX CONNECTED component - most likely it will be a DISCONNECTED GRAPH\n",
    "# returns a LIST\n",
    "#edge_list_ALL = grp.Get_All_Edges_with_Weight(grp.gr_amazon_movies)\n",
    "#print(edge_list_ALL[0:5])\n",
    "#edge_list_connected = grp.Get_All_Edges_with_Weight(max_connected_gr_amazon_movies)\n",
    "#list(max_connected_gr_amazon_movies.edges)[0:5]\n",
    "# shows the nodes of the max connected component/subgraph\n",
    "#grp.Show_Nodes()\n",
    "#if your graph is too BIG, it is better not to draw it, it takes time..\n",
    "#grp.Draw_Bipartite(max_connected_gr_amazon_movies)\n",
    "#shows the edges with weights\n",
    "#list(max_connected_gr_amazon_movies.edges.data('weight', default=1))[0:5]"
   ]
  },
  {
   "cell_type": "code",
   "execution_count": 5,
   "metadata": {
    "colab": {},
    "colab_type": "code",
    "id": "Ih_pWMfwwT9V"
   },
   "outputs": [
    {
     "name": "stdout",
     "output_type": "stream",
     "text": [
      "Graph info saved in: Movies_Connected_1885_11.5.2020_21.57.36.txt\n"
     ]
    }
   ],
   "source": [
    "#saves the movies/graph in the format of:\n",
    "'''\n",
    "A141HP4LYPW,B003AI2VGA,3.0\n",
    "A141HP4LYPW,B000063W1R,4.0\n",
    "A141HP4LYPW,6304286961,5.0\n",
    "'''\n",
    "#max_connected_gr_amazon_movies\n",
    "file_name_saved = amp.Save_Movies(max_connected_gr_amazon_movies)"
   ]
  },
  {
   "cell_type": "code",
   "execution_count": 6,
   "metadata": {
    "colab": {},
    "colab_type": "code",
    "id": "6kD31Ck8wT9g"
   },
   "outputs": [],
   "source": [
    "# returns a list in the format of:\n",
    "# [['userId', 'productId', 'score'], ['A141HP4LYPW', 'B003AI2VGA', '3.0']]\n",
    "#the_giant_component_read = amp.Read_Connected_Movies(\"Movies_Connected_4643_11.5.2020_21.11.17.txt\")\n",
    "the_giant_component_read = amp.Read_Connected_Movies(file_name_saved)\n",
    "#test[0].split(sep=\",\")"
   ]
  },
  {
   "cell_type": "code",
   "execution_count": 7,
   "metadata": {
    "colab": {},
    "colab_type": "code",
    "id": "Esv-XNKnwT90"
   },
   "outputs": [],
   "source": [
    "# it is mostly for a double check to see if the movies were saved to the file properly \n",
    "#and check if we read them and create a graph it will still be a connected graph or not\n",
    "grp_giant = grp.Create_Graph_From_List_WITH_Weight(the_giant_component_read)"
   ]
  },
  {
   "cell_type": "code",
   "execution_count": 8,
   "metadata": {},
   "outputs": [
    {
     "name": "stdout",
     "output_type": "stream",
     "text": [
      "BEFORE: # of nodes: 1852 ... # of edges: 1885\n",
      "AFTER: # of nodes: 1852 ... # of edges: 1885\n"
     ]
    }
   ],
   "source": [
    "# double check if the numbers are matching before saving the records\n",
    "# and after creating the graph from the saved file\n",
    "print('BEFORE: # of nodes: {} ... # of edges: {}'.format(len(max_connected_gr_amazon_movies.nodes), len(max_connected_gr_amazon_movies.edges)))\n",
    "print('AFTER: # of nodes: {} ... # of edges: {}'.format(len(grp_giant.nodes), len(grp_giant.edges)))"
   ]
  },
  {
   "cell_type": "code",
   "execution_count": 9,
   "metadata": {
    "colab": {
     "base_uri": "https://localhost:8080/",
     "height": 54
    },
    "colab_type": "code",
    "id": "R4pCuVroGJHQ",
    "outputId": "5cf6fc85-a9a8-4165-ef14-c62aff747ffb"
   },
   "outputs": [
    {
     "name": "stdout",
     "output_type": "stream",
     "text": [
      "Is connected: True ... Is bipartite: True\n"
     ]
    }
   ],
   "source": [
    "# here is the check of the graph read\n",
    "grp.Is_Connected_Bipartite(grp_giant)"
   ]
  },
  {
   "cell_type": "code",
   "execution_count": 10,
   "metadata": {
    "colab": {},
    "colab_type": "code",
    "id": "0l8iLwOgjQYv"
   },
   "outputs": [],
   "source": [
    "# this is to fetch all nodes without edges, so that we can use them to predict the edges\n",
    "grp_giant_no_edges = grp.Create_Graph_From_List_NO_EDGE(grp_giant)\n",
    "#if you check it, you'll see no edges but nodes\n",
    "#grp_giant_no_edges.edges\n",
    "#list(grp_giant_no_weights.nodes)[0:5]\n",
    "#grp.Is_Connected_Bipartite(grp_giant_no_weights)"
   ]
  },
  {
   "cell_type": "code",
   "execution_count": null,
   "metadata": {},
   "outputs": [
    {
     "name": "stdout",
     "output_type": "stream",
     "text": [
      "Graph has been reorganized as a DataFrame, row format: ['userId', 'movieId', 'score']\n",
      "# of nodes in the giant connected component: 1852\n",
      "node-0: B003AI2VGA is checked out of 1852 nodes.\n",
      "node-1: B000063W1R is checked out of 1852 nodes.\n",
      "node-2: B0001G6PZC is checked out of 1852 nodes.\n",
      "node-3: B0016OLXN2 is checked out of 1852 nodes.\n",
      "node-4: B00004CQT3 is checked out of 1852 nodes.\n",
      "node-5: B002OHDRF2 is checked out of 1852 nodes.\n",
      "node-6: B0078V2LCY is checked out of 1852 nodes.\n",
      "node-7: B0092MDYV4 is checked out of 1852 nodes.\n",
      "node-8: B000CDSS86 is checked out of 1852 nodes.\n",
      "node-9: 0800103688 is checked out of 1852 nodes.\n",
      "node-10: 0790747324 is checked out of 1852 nodes.\n",
      "node-11: B000NDFLWG is checked out of 1852 nodes.\n",
      "node-12: B008FPU7AA is checked out of 1852 nodes.\n",
      "node-13: 6300157423 is checked out of 1852 nodes.\n",
      "node-14: B00004CQTF is checked out of 1852 nodes.\n",
      "node-15: B000IZJR3I is checked out of 1852 nodes.\n",
      "node-16: 630436119X is checked out of 1852 nodes.\n",
      "node-17: B001GBPZRU is checked out of 1852 nodes.\n",
      "node-18: B0023S4A12 is checked out of 1852 nodes.\n",
      "node-19: 6300147967 is checked out of 1852 nodes.\n",
      "node-20: A141HP4LYPW is checked out of 1852 nodes.\n",
      "node-21: A328S9RN3U5 is checked out of 1852 nodes.\n",
      "node-22: A1I7QGUDP04 is checked out of 1852 nodes.\n",
      "node-23: A1M5405JH9T is checked out of 1852 nodes.\n",
      "node-24: ATXL536YX71 is checked out of 1852 nodes.\n",
      "node-25: A3QYDL5CDNY is checked out of 1852 nodes.\n",
      "node-26: AQJVNDW6YZF is checked out of 1852 nodes.\n",
      "node-27: A34KFDQ5KBH is checked out of 1852 nodes.\n",
      "node-28: A1CIW2OEVAJ is checked out of 1852 nodes.\n",
      "node-29: A1VJCDRXUQV is checked out of 1852 nodes.\n",
      "node-30: A2IMLPUXYQJ is checked out of 1852 nodes.\n",
      "node-31: A1D12NAC1U1 is checked out of 1852 nodes.\n",
      "node-32: A3RVH9HUN9J is checked out of 1852 nodes.\n",
      "node-33: AH7ZNGM8WOO is checked out of 1852 nodes.\n",
      "node-34: A2582KMXLK2 is checked out of 1852 nodes.\n",
      "node-35: A1J50B4K22D is checked out of 1852 nodes.\n",
      "node-36: A2DLKD4AC5J is checked out of 1852 nodes.\n",
      "node-37: A8DDTUL8OWF is checked out of 1852 nodes.\n",
      "node-38: A174WE983H0 is checked out of 1852 nodes.\n",
      "node-39: ASES4LU7WKY is checked out of 1852 nodes.\n",
      "node-40: A3N27L13CWJ is checked out of 1852 nodes.\n",
      "node-41: A2H5D7IK9SF is checked out of 1852 nodes.\n",
      "node-42: A2URPOBDQK3 is checked out of 1852 nodes.\n",
      "node-43: A2TTVV34NLM is checked out of 1852 nodes.\n",
      "node-44: A7LRQFZW3D9 is checked out of 1852 nodes.\n",
      "node-45: A2R1VN4J5L2 is checked out of 1852 nodes.\n",
      "node-46: A2I6MHMAZZD is checked out of 1852 nodes.\n",
      "node-47: A3GX0UO7XXZ is checked out of 1852 nodes.\n",
      "node-48: A2942G3FDOI is checked out of 1852 nodes.\n",
      "node-49: A11L5M4MJP0 is checked out of 1852 nodes.\n",
      "node-50: A2VDM3D712B is checked out of 1852 nodes.\n",
      "node-51: A27H9DOUGY9 is checked out of 1852 nodes.\n",
      "node-52: A39M64IZTC0 is checked out of 1852 nodes.\n",
      "node-53: A29DLKCN8QW is checked out of 1852 nodes.\n",
      "node-54: A295JWKTJLM is checked out of 1852 nodes.\n",
      "node-55: A1M3W0ROKC7 is checked out of 1852 nodes.\n",
      "node-56: A2M2O1DI1SC is checked out of 1852 nodes.\n",
      "node-57: A2IOMS4TK2Q is checked out of 1852 nodes.\n",
      "node-58: A2YWH9COGWT is checked out of 1852 nodes.\n",
      "node-59: A3QIEISBZP4 is checked out of 1852 nodes.\n",
      "node-60: A17RUD7RKGZ is checked out of 1852 nodes.\n",
      "node-61: A18758S1PUY is checked out of 1852 nodes.\n",
      "node-62: A2UFG3DMVEL is checked out of 1852 nodes.\n",
      "node-63: A4FBBS25X3X is checked out of 1852 nodes.\n",
      "node-64: A23Q1T4MXZH is checked out of 1852 nodes.\n",
      "node-65: ANZNLFBN62Y is checked out of 1852 nodes.\n",
      "node-66: A2FX6OHBMQ9 is checked out of 1852 nodes.\n",
      "node-67: A1MIFONBFK8 is checked out of 1852 nodes.\n",
      "node-68: A1DZ4MTJY8L is checked out of 1852 nodes.\n",
      "node-69: A3NNR95R50V is checked out of 1852 nodes.\n",
      "node-70: A19O5ETNRJN is checked out of 1852 nodes.\n",
      "node-71: AMEJTGF5NQL is checked out of 1852 nodes.\n",
      "node-72: A1DDVFGUC6N is checked out of 1852 nodes.\n",
      "node-73: A36SSF310LB is checked out of 1852 nodes.\n",
      "node-74: A63FDY7VFOM is checked out of 1852 nodes.\n",
      "node-75: A3R95JCH1K9 is checked out of 1852 nodes.\n",
      "node-76: A2IT3899H77 is checked out of 1852 nodes.\n",
      "node-77: A3NWP0SFAC0 is checked out of 1852 nodes.\n",
      "node-78: A1AFHYBINSG is checked out of 1852 nodes.\n",
      "node-79: A3N2MVBI1A2 is checked out of 1852 nodes.\n",
      "node-80: A3VP6XR88IN is checked out of 1852 nodes.\n",
      "node-81: A355WMP0CQB is checked out of 1852 nodes.\n",
      "node-82: A2CU4L3OK00 is checked out of 1852 nodes.\n",
      "node-83: A41I67QYRAO is checked out of 1852 nodes.\n",
      "node-84: A1XY417YALQ is checked out of 1852 nodes.\n",
      "node-85: A2PNB2HQTF5 is checked out of 1852 nodes.\n",
      "node-86: ATQDMCZ904Y is checked out of 1852 nodes.\n",
      "node-87: A1IJINKEDO8 is checked out of 1852 nodes.\n",
      "node-88: AQ8DU6XVA3U is checked out of 1852 nodes.\n",
      "node-89: A1ICAVFAYAJ is checked out of 1852 nodes.\n",
      "node-90: ALX2RTJW3NF is checked out of 1852 nodes.\n",
      "node-91: A1KPXFWEB2T is checked out of 1852 nodes.\n",
      "node-92: A2M6FIWDCDW is checked out of 1852 nodes.\n",
      "node-93: A3QEBUBAQHE is checked out of 1852 nodes.\n",
      "node-94: A3AE7GKA6NF is checked out of 1852 nodes.\n",
      "node-95: A1FBZRYTAA6 is checked out of 1852 nodes.\n",
      "node-96: A2FEGRJQNU5 is checked out of 1852 nodes.\n",
      "node-97: A18XYPKYS15 is checked out of 1852 nodes.\n",
      "node-98: A1EMDSTJDUE is checked out of 1852 nodes.\n",
      "node-99: A7FMCZZVFHR is checked out of 1852 nodes.\n",
      "node-100: A861XPXU3SH is checked out of 1852 nodes.\n",
      "node-101: A2H3SK7N5T2 is checked out of 1852 nodes.\n",
      "node-102: A15BHBF0L0H is checked out of 1852 nodes.\n",
      "node-103: A1748KGXK92 is checked out of 1852 nodes.\n",
      "node-104: A1LG64CVEGG is checked out of 1852 nodes.\n",
      "node-105: A3EIH6UL4N0 is checked out of 1852 nodes.\n",
      "node-106: A3TBQJ5HEV5 is checked out of 1852 nodes.\n",
      "node-107: A1A19C00QZV is checked out of 1852 nodes.\n",
      "node-108: A2DPL3M7VU1 is checked out of 1852 nodes.\n",
      "node-109: A100Y8WSLFJ is checked out of 1852 nodes.\n",
      "node-110: A17WER66R17 is checked out of 1852 nodes.\n",
      "node-111: A2198FZZMTJ is checked out of 1852 nodes.\n",
      "node-112: A2V3P1XE33N is checked out of 1852 nodes.\n",
      "node-113: A3L2U581LL1 is checked out of 1852 nodes.\n",
      "node-114: A1Z9OQG9GZ2 is checked out of 1852 nodes.\n",
      "node-115: A28ILXH590C is checked out of 1852 nodes.\n",
      "node-116: A2VOIE123XM is checked out of 1852 nodes.\n",
      "node-117: ADX5JX5LKLC is checked out of 1852 nodes.\n",
      "node-118: AA09N6UF7K8 is checked out of 1852 nodes.\n",
      "node-119: A13TO1ZFAH9 is checked out of 1852 nodes.\n",
      "node-120: AWR2BFHVWHK is checked out of 1852 nodes.\n",
      "node-121: A1NHXG2NDI7 is checked out of 1852 nodes.\n",
      "node-122: A1VE2B3RHJQ is checked out of 1852 nodes.\n",
      "node-123: AM3W8N7L2AW is checked out of 1852 nodes.\n",
      "node-124: A17JY4CJX89 is checked out of 1852 nodes.\n",
      "node-125: A478YKPNCTU is checked out of 1852 nodes.\n",
      "node-126: ANGAFKOX9IG is checked out of 1852 nodes.\n",
      "node-127: A2W41HPK58K is checked out of 1852 nodes.\n",
      "node-128: A1LRF0ZCQHI is checked out of 1852 nodes.\n",
      "node-129: AC4P2ILHYJS is checked out of 1852 nodes.\n",
      "node-130: A2SZDYCNZPT is checked out of 1852 nodes.\n",
      "node-131: AJ9G7XEBLY5 is checked out of 1852 nodes.\n",
      "node-132: A1O0FV74YJW is checked out of 1852 nodes.\n",
      "node-133: A17JF9HPSP3 is checked out of 1852 nodes.\n",
      "node-134: A2RX6PA6YAU is checked out of 1852 nodes.\n",
      "node-135: A25M5W25GQP is checked out of 1852 nodes.\n",
      "node-136: AHPAI9KYAUM is checked out of 1852 nodes.\n",
      "node-137: ATTETV8QSM1 is checked out of 1852 nodes.\n",
      "node-138: A1UGZNYU3NH is checked out of 1852 nodes.\n",
      "node-139: A396KT0U4VO is checked out of 1852 nodes.\n",
      "node-140: A3J6UKT3S8G is checked out of 1852 nodes.\n",
      "node-141: A1HHG9CDRDS is checked out of 1852 nodes.\n",
      "node-142: A22TGAZTYUE is checked out of 1852 nodes.\n",
      "node-143: AO9A87DKEUH is checked out of 1852 nodes.\n",
      "node-144: A3LXHBXOVW3 is checked out of 1852 nodes.\n",
      "node-145: A37D2QEU08C is checked out of 1852 nodes.\n",
      "node-146: A1Z6PSZN53T is checked out of 1852 nodes.\n",
      "node-147: A9SBB3KS4EO is checked out of 1852 nodes.\n",
      "node-148: A1I7EUZ6IGE is checked out of 1852 nodes.\n",
      "node-149: A1NISD0L3OT is checked out of 1852 nodes.\n",
      "node-150: A37SEUCH6PI is checked out of 1852 nodes.\n",
      "node-151: A1AIV6MT6LK is checked out of 1852 nodes.\n",
      "node-152: A32L8SSXE7O is checked out of 1852 nodes.\n",
      "node-153: ANCOMAI0I7L is checked out of 1852 nodes.\n",
      "node-154: A3C7H0F73YX is checked out of 1852 nodes.\n",
      "node-155: A2XUIU2GOMA is checked out of 1852 nodes.\n",
      "node-156: A3EFCK0HZQP is checked out of 1852 nodes.\n",
      "node-157: A1U8WDQGJ0H is checked out of 1852 nodes.\n"
     ]
    },
    {
     "name": "stdout",
     "output_type": "stream",
     "text": [
      "node-158: A3SPJY549DX is checked out of 1852 nodes.\n",
      "node-159: A2RW7HXNEJ0 is checked out of 1852 nodes.\n",
      "node-160: A4OWXQLYVER is checked out of 1852 nodes.\n",
      "node-161: AG9A3ZL7ODL is checked out of 1852 nodes.\n",
      "node-162: A2XTMDDO0UC is checked out of 1852 nodes.\n",
      "node-163: A3GV24GH1AF is checked out of 1852 nodes.\n",
      "node-164: A1VT9SADFD9 is checked out of 1852 nodes.\n",
      "node-165: A31VEVBN7K8 is checked out of 1852 nodes.\n",
      "node-166: A1O05HYBO2L is checked out of 1852 nodes.\n",
      "node-167: A1UMSB7LAW0 is checked out of 1852 nodes.\n",
      "node-168: A22QDGL361U is checked out of 1852 nodes.\n",
      "node-169: A27GP310AJR is checked out of 1852 nodes.\n",
      "node-170: A39CX0EE4BZ is checked out of 1852 nodes.\n",
      "node-171: A30PZUE2YQH is checked out of 1852 nodes.\n",
      "node-172: A91VKBOACYQ is checked out of 1852 nodes.\n",
      "node-173: A3VC1CIRFDX is checked out of 1852 nodes.\n",
      "node-174: A2PKRPEODLQ is checked out of 1852 nodes.\n",
      "node-175: A3A4WQL80WO is checked out of 1852 nodes.\n",
      "node-176: A273SGLDMWW is checked out of 1852 nodes.\n",
      "node-177: A1GHUN5HXMH is checked out of 1852 nodes.\n",
      "node-178: AAVLB0GGEKR is checked out of 1852 nodes.\n",
      "node-179: A88PY6TRF86 is checked out of 1852 nodes.\n",
      "node-180: A2GB3S7X9KV is checked out of 1852 nodes.\n",
      "node-181: A2PC9EFEVC8 is checked out of 1852 nodes.\n",
      "node-182: A15Q7ABIU9O is checked out of 1852 nodes.\n",
      "node-183: A2NUHWMHA9X is checked out of 1852 nodes.\n",
      "node-184: A25HYPL2XKQ is checked out of 1852 nodes.\n",
      "node-185: A1BZZNC5DJG is checked out of 1852 nodes.\n",
      "node-186: A2TD13LRUGU is checked out of 1852 nodes.\n",
      "node-187: A2Z71PNFQ40 is checked out of 1852 nodes.\n",
      "node-188: A16HYHVQIFM is checked out of 1852 nodes.\n",
      "node-189: A1FYYU65Q43 is checked out of 1852 nodes.\n",
      "node-190: A1G9FR0T9UG is checked out of 1852 nodes.\n",
      "node-191: A304OFBH6YJ is checked out of 1852 nodes.\n",
      "node-192: A3D3D3349KV is checked out of 1852 nodes.\n",
      "node-193: A1GRC5WGBMT is checked out of 1852 nodes.\n",
      "node-194: AEXVGEMTTOX is checked out of 1852 nodes.\n",
      "node-195: A2HN2BU4VXB is checked out of 1852 nodes.\n",
      "node-196: AI2G6ZZS0G0 is checked out of 1852 nodes.\n",
      "node-197: A2KWFGHX2PK is checked out of 1852 nodes.\n",
      "node-198: A2NVQZ4Y7Y0 is checked out of 1852 nodes.\n",
      "node-199: A34X0JH8GU1 is checked out of 1852 nodes.\n",
      "node-200: A3A1MXZAP0A is checked out of 1852 nodes.\n",
      "node-201: AHQYCRL2FMG is checked out of 1852 nodes.\n",
      "node-202: A1HX00DL0SZ is checked out of 1852 nodes.\n",
      "node-203: AWMI8T6T8R0 is checked out of 1852 nodes.\n",
      "node-204: ASM49K4PPX7 is checked out of 1852 nodes.\n",
      "node-205: A2WB4OWBUH2 is checked out of 1852 nodes.\n",
      "node-206: A1KFBAPAKME is checked out of 1852 nodes.\n",
      "node-207: A16837CKPTA is checked out of 1852 nodes.\n",
      "node-208: A2ZLROGIL2V is checked out of 1852 nodes.\n",
      "node-209: A2PV19AS7V6 is checked out of 1852 nodes.\n",
      "node-210: A1655SGPPUU is checked out of 1852 nodes.\n",
      "node-211: A3FX9KYW53M is checked out of 1852 nodes.\n",
      "node-212: A2ZQ75P93V9 is checked out of 1852 nodes.\n",
      "node-213: A3LFFFKJEO2 is checked out of 1852 nodes.\n",
      "node-214: A30LQLFU8JF is checked out of 1852 nodes.\n",
      "node-215: A3TXNSN0LN4 is checked out of 1852 nodes.\n",
      "node-216: A7Y6AVS576M is checked out of 1852 nodes.\n",
      "node-217: A1ESIMERJCC is checked out of 1852 nodes.\n",
      "node-218: A3S1N6O1HAU is checked out of 1852 nodes.\n",
      "node-219: AED6N2DP651 is checked out of 1852 nodes.\n",
      "node-220: A2VN0HXQR27 is checked out of 1852 nodes.\n",
      "node-221: A103VZ3KDF2 is checked out of 1852 nodes.\n",
      "node-222: AZ289K8AEXF is checked out of 1852 nodes.\n",
      "node-223: A1MJ2N6XARK is checked out of 1852 nodes.\n",
      "node-224: A2KW1R12GJO is checked out of 1852 nodes.\n",
      "node-225: A112UYCJEYZ is checked out of 1852 nodes.\n",
      "node-226: A2DB5YBO8IN is checked out of 1852 nodes.\n",
      "node-227: A21TCW8DZTO is checked out of 1852 nodes.\n",
      "node-228: A26WR0278FJ is checked out of 1852 nodes.\n",
      "node-229: AQZH7YTWQPO is checked out of 1852 nodes.\n",
      "node-230: A2ZHLRZA2UH is checked out of 1852 nodes.\n",
      "node-231: A24TXEHKPFH is checked out of 1852 nodes.\n",
      "node-232: A3C9RIZVADD is checked out of 1852 nodes.\n",
      "node-233: A2AZOD3HG2E is checked out of 1852 nodes.\n",
      "node-234: A2GMUNBN9HK is checked out of 1852 nodes.\n",
      "node-235: A37J2XO8DNJ is checked out of 1852 nodes.\n",
      "node-236: A2A3L2QLRWD is checked out of 1852 nodes.\n",
      "node-237: AVRA2OVCB1K is checked out of 1852 nodes.\n",
      "node-238: AT7DYVPTAY3 is checked out of 1852 nodes.\n",
      "node-239: A1VQNX0TFZZ is checked out of 1852 nodes.\n",
      "node-240: ADLN37B0153 is checked out of 1852 nodes.\n",
      "node-241: A1EI65WJC85 is checked out of 1852 nodes.\n",
      "node-242: A87RT63V7SM is checked out of 1852 nodes.\n",
      "node-243: A3S3HYKVSZK is checked out of 1852 nodes.\n",
      "node-244: A3TI9JJG07F is checked out of 1852 nodes.\n",
      "node-245: A37GQ47VYV6 is checked out of 1852 nodes.\n",
      "node-246: A2J39S4NZE4 is checked out of 1852 nodes.\n",
      "node-247: A1PILMASEE4 is checked out of 1852 nodes.\n",
      "node-248: AEP7IR7KT2U is checked out of 1852 nodes.\n",
      "node-249: A15XXOVX6ZN is checked out of 1852 nodes.\n",
      "node-250: A17FLA8HQOF is checked out of 1852 nodes.\n",
      "node-251: AJFX9A874WW is checked out of 1852 nodes.\n",
      "node-252: AOVJYIUATQK is checked out of 1852 nodes.\n",
      "node-253: A3PVJSJT8JZ is checked out of 1852 nodes.\n",
      "node-254: A1K5KYE4MNQ is checked out of 1852 nodes.\n",
      "node-255: A3OI841P5R6 is checked out of 1852 nodes.\n",
      "node-256: A2R93V4Q29O is checked out of 1852 nodes.\n",
      "node-257: A1PO10SDIYH is checked out of 1852 nodes.\n",
      "node-258: A33N2SW8DMY is checked out of 1852 nodes.\n",
      "node-259: A2RWH9TYO41 is checked out of 1852 nodes.\n",
      "node-260: A3GGH1ZRO1X is checked out of 1852 nodes.\n",
      "node-261: AYDMO7GMLIQ is checked out of 1852 nodes.\n",
      "node-262: A2YMUM79BAB is checked out of 1852 nodes.\n",
      "node-263: A6XTOZKDV7X is checked out of 1852 nodes.\n",
      "node-264: AZS4LNQFPHP is checked out of 1852 nodes.\n",
      "node-265: A1QQPIUXWD4 is checked out of 1852 nodes.\n",
      "node-266: A2NHDJD281D is checked out of 1852 nodes.\n",
      "node-267: A205217DOX0 is checked out of 1852 nodes.\n",
      "node-268: A3PU5P5DWN5 is checked out of 1852 nodes.\n",
      "node-269: A898P4CKWFL is checked out of 1852 nodes.\n",
      "node-270: AIDZDBQXIB0 is checked out of 1852 nodes.\n",
      "node-271: A15S44J4NHU is checked out of 1852 nodes.\n",
      "node-272: A21ZR0P46CL is checked out of 1852 nodes.\n",
      "node-273: A303AOOHDU1 is checked out of 1852 nodes.\n",
      "node-274: A2MMIZ653FB is checked out of 1852 nodes.\n",
      "node-275: A2DRCJ1YOFT is checked out of 1852 nodes.\n",
      "node-276: A1XFGXKWNL7 is checked out of 1852 nodes.\n",
      "node-277: A2NNTNC715A is checked out of 1852 nodes.\n",
      "node-278: A1VNKHD87ZG is checked out of 1852 nodes.\n",
      "node-279: A3JJA7N685A is checked out of 1852 nodes.\n",
      "node-280: A1ERZIZ48CB is checked out of 1852 nodes.\n",
      "node-281: A1N8K1X0OLL is checked out of 1852 nodes.\n",
      "node-282: A3UBWCLVJ6W is checked out of 1852 nodes.\n",
      "node-283: AYG1U47VFZ1 is checked out of 1852 nodes.\n",
      "node-284: A1VP82VQ411 is checked out of 1852 nodes.\n",
      "node-285: A21QS6KC7OZ is checked out of 1852 nodes.\n",
      "node-286: AFPJRGS99VU is checked out of 1852 nodes.\n",
      "node-287: A3KZWXHLEMA is checked out of 1852 nodes.\n",
      "node-288: AJUDAZVU7UM is checked out of 1852 nodes.\n",
      "node-289: A1G4B9IY8WU is checked out of 1852 nodes.\n",
      "node-290: A18SC0K2OUT is checked out of 1852 nodes.\n",
      "node-291: AZC67HZXX5E is checked out of 1852 nodes.\n",
      "node-292: A3DR96TWTYQ is checked out of 1852 nodes.\n",
      "node-293: AFQ1KU9Z93P is checked out of 1852 nodes.\n",
      "node-294: A3NNV90ZY50 is checked out of 1852 nodes.\n",
      "node-295: A3JLOIXFM75 is checked out of 1852 nodes.\n",
      "node-296: A2NTNKFWSU5 is checked out of 1852 nodes.\n",
      "node-297: A5711PC5T46 is checked out of 1852 nodes.\n",
      "node-298: A12PNLQL3E6 is checked out of 1852 nodes.\n",
      "node-299: A3UJJGY799F is checked out of 1852 nodes.\n",
      "node-300: A3BVH10DSPW is checked out of 1852 nodes.\n",
      "node-301: ANE9HHP1P8L is checked out of 1852 nodes.\n"
     ]
    }
   ],
   "source": [
    "start_time = datetime.datetime.now()\n",
    "df_movies = amp.Reorganize_Edges_DataFrame(max_connected_gr_amazon_movies, input_type = 'Graph')\n",
    "\n",
    "node_movies = df_movies['movieId'].unique()\n",
    "node_users = df_movies['userId'].unique()\n",
    "nodes = np.concatenate((node_users, node_movies), axis=0)\n",
    "n_nodes = len(nodes)\n",
    "#n_nodes = len(max_connected_gr_amazon_movies.nodes)\n",
    "print('# of nodes in the giant connected component: {}'.format(n_nodes))\n",
    "# Probability matrix, if there is an edge between node[i] and node[j], \n",
    "# in other words, if a user reviewed a movie with a score from 1 to 5, P[i][j]=score[ij]\n",
    "# then the row will be normalized to have the values between 0 and 1\n",
    "#the weight will be the\n",
    "\n",
    "P = np.zeros((n_nodes, n_nodes))\n",
    "R = np.zeros((n_nodes, n_nodes))\n",
    "\n",
    "i = 0\n",
    "for n_r in nodes:\n",
    "    j = 0\n",
    "    for n_c in nodes:\n",
    "        edge_index = df_movies.query(\"movieId == '\" + n_r + \"' and userId == '\" + n_c + \"'\").index\n",
    "        if len(edge_index) != 0:\n",
    "            P[i][j] = df_movies.iloc[edge_index[0], 2]\n",
    "            P[j][i] = P[i][j]\n",
    "            #print('i={} .. j={} .. n_r={} .. n_c={}'.format(i, j, n_r, n_c))\n",
    "        j += 1\n",
    "    print('node-{}: {} is checked out of {} nodes.'.format(i, n_r, n_nodes))\n",
    "    i += 1\n",
    "    \n",
    "end_time = datetime.datetime.now()\n",
    "print('Calculation time: {}'.format(end_time-start_time))"
   ]
  },
  {
   "cell_type": "code",
   "execution_count": null,
   "metadata": {},
   "outputs": [],
   "source": [
    "def Normalize_Array(arr_to_normalize):\n",
    "    arr_sum_per_row = arr_to_normalize.sum(axis=1)\n",
    "    arr_norm = arr_to_normalize/np.tile(arr_sum_per_row, (arr_sum_per_row.shape[0], 1)).T\n",
    "    return arr_norm"
   ]
  },
  {
   "cell_type": "code",
   "execution_count": null,
   "metadata": {},
   "outputs": [],
   "source": [
    "# until roun(, 3) >> it's ok. when we round to 4, then it messes up..\n",
    "# even with round(3) >> if we save in a file, it messes up..\n",
    "P_norm = np.round(Normalize_Array(P), 3)\n",
    "#P_norm = Normalize_Array(P)"
   ]
  },
  {
   "cell_type": "code",
   "execution_count": null,
   "metadata": {},
   "outputs": [],
   "source": [
    "P_norm"
   ]
  },
  {
   "cell_type": "code",
   "execution_count": null,
   "metadata": {},
   "outputs": [],
   "source": [
    "# SUM-check\n",
    "#print('SUM-check')\n",
    "#P_norm.sum(axis=1)"
   ]
  },
  {
   "cell_type": "code",
   "execution_count": null,
   "metadata": {},
   "outputs": [],
   "source": [
    "savetxt(amp.FileNameUnique(prefix = \"P_norm_\", suffix = '.csv'), P_norm, delimiter=',')"
   ]
  }
 ],
 "metadata": {
  "colab": {
   "collapsed_sections": [],
   "name": "Amazon_movies.ipynb",
   "provenance": []
  },
  "kernelspec": {
   "display_name": "Python 3",
   "language": "python",
   "name": "python3"
  },
  "language_info": {
   "codemirror_mode": {
    "name": "ipython",
    "version": 3
   },
   "file_extension": ".py",
   "mimetype": "text/x-python",
   "name": "python",
   "nbconvert_exporter": "python",
   "pygments_lexer": "ipython3",
   "version": "3.7.1"
  }
 },
 "nbformat": 4,
 "nbformat_minor": 1
}
