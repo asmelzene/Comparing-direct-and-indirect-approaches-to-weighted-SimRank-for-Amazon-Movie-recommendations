{
 "cells": [
  {
   "cell_type": "code",
   "execution_count": 1,
   "metadata": {
    "colab": {},
    "colab_type": "code",
    "id": "QUR_8TxjwT6c"
   },
   "outputs": [],
   "source": [
    "import Graph_Amazon_Movies as gam\n",
    "import Amazon_Movie_Parser as amp\n",
    "import numpy as np\n",
    "import pandas as pd\n",
    "from networkx.algorithms import bipartite\n",
    "import networkx as nx\n",
    "import Amazon_Movie_Parser as prs\n",
    "import datetime\n",
    "from numpy import savetxt"
   ]
  },
  {
   "cell_type": "code",
   "execution_count": 2,
   "metadata": {},
   "outputs": [
    {
     "name": "stdout",
     "output_type": "stream",
     "text": [
      "no need for laptop\n"
     ]
    }
   ],
   "source": [
    "try:\n",
    "    # needed only if you don't have the movies.txt file in your local or colab directory\n",
    "    from google_drive_downloader import GoogleDriveDownloader as gdd\n",
    "    file_id1='1iytA1n2z4go3uVCwE__vIKouTKyIDjEq'\n",
    "    # movies.txt >> 9 GB data  ... below shared URL has the fileID to download\n",
    "    #https://drive.google.com/file/d/1cRLjG6Pl4JEag-utmD-7nLipzxCdmkiQ/view?usp=sharing\n",
    "    file_id2='1cRLjG6Pl4JEag-utmD-7nLipzxCdmkiQ'\n",
    "    gdd.download_file_from_google_drive(file_id=file_id2,\n",
    "                                        dest_path='data/movies.txt',\n",
    "                                        unzip=True)\n",
    "except:\n",
    "    print('no need for laptop')"
   ]
  },
  {
   "cell_type": "code",
   "execution_count": 3,
   "metadata": {
    "colab": {
     "base_uri": "https://localhost:8080/",
     "height": 1000
    },
    "colab_type": "code",
    "id": "a1kAkQrmwT6v",
    "outputId": "f2e28e13-c656-451e-e93e-ac83ee7289a9"
   },
   "outputs": [
    {
     "name": "stdout",
     "output_type": "stream",
     "text": [
      "Calculation time-Crete graph from the movies file: 0:00:37.043212\n"
     ]
    }
   ],
   "source": [
    "start_time = datetime.datetime.now()\n",
    "grp = gam.Graph_Amazon()\n",
    "max_connected_gr_amazon_movies = grp.Create_Bipartite(file_name = 'data/movies.txt', \\\n",
    "                                                      n_movies = 40000, prs_out = 'dictionary')\n",
    "end_time = datetime.datetime.now()\n",
    "print('Calculation time-Crete graph from the movies file: {}'.format(end_time-start_time))"
   ]
  },
  {
   "cell_type": "code",
   "execution_count": 4,
   "metadata": {
    "colab": {},
    "colab_type": "code",
    "id": "8eNkw4fK5Pgp"
   },
   "outputs": [],
   "source": [
    "bottom_nodes, top_nodes = bipartite.sets(max_connected_gr_amazon_movies)"
   ]
  },
  {
   "cell_type": "code",
   "execution_count": 5,
   "metadata": {
    "colab": {
     "base_uri": "https://localhost:8080/",
     "height": 35
    },
    "colab_type": "code",
    "id": "GnZtvh3A_Lqj",
    "outputId": "51f68ecd-6155-4ae0-b061-8afda0cf004e"
   },
   "outputs": [
    {
     "name": "stdout",
     "output_type": "stream",
     "text": [
      "max_connected_gr_amazon_movies:\n",
      "Movies: 788 ... starts with B: 655\n",
      "Users: 29294 ... starts with A: 29294\n",
      "Is connected: True ... Is bipartite: True\n"
     ]
    }
   ],
   "source": [
    "# Data check\n",
    "# some MOVIES don't start with B but instead full numbers like: 0790747324\n",
    "print('max_connected_gr_amazon_movies:')\n",
    "count_B = 0\n",
    "for movie in top_nodes:\n",
    "    if movie.startswith('B'):\n",
    "        count_B += 1\n",
    "\n",
    "print('Movies: {} ... starts with B: {}'.format(len(top_nodes), count_B))\n",
    "\n",
    "count_A=0\n",
    "for movie in bottom_nodes:\n",
    "    if movie.startswith('A'):\n",
    "        count_A += 1\n",
    "\n",
    "print('Users: {} ... starts with A: {}'.format(len(bottom_nodes), count_A))\n",
    "\n",
    "grp.Is_Connected_Bipartite(max_connected_gr_amazon_movies)\n",
    "# edges between movies\n",
    "#max_grp_top = bipartite.projected_graph(max_connected_gr_amazon_movies, grp.top_nodes)\n",
    "# shows all the records BEFORE picking up the MAX CONNECTED component - most likely it will be a DISCONNECTED GRAPH\n",
    "# returns a LIST\n",
    "#edge_list_ALL = grp.Get_All_Edges_with_Weight(grp.gr_amazon_movies)\n",
    "#print(edge_list_ALL[0:5])\n",
    "#edge_list_connected = grp.Get_All_Edges_with_Weight(max_connected_gr_amazon_movies)\n",
    "#list(max_connected_gr_amazon_movies.edges)[0:5]\n",
    "# shows the nodes of the max connected component/subgraph\n",
    "#grp.Show_Nodes()\n",
    "#if your graph is too BIG, it is better not to draw it, it takes time..\n",
    "#grp.Draw_Bipartite(max_connected_gr_amazon_movies)\n",
    "#shows the edges with weights\n",
    "#list(max_connected_gr_amazon_movies.edges.data('weight', default=1))[0:5]"
   ]
  },
  {
   "cell_type": "code",
   "execution_count": 6,
   "metadata": {
    "colab": {},
    "colab_type": "code",
    "id": "Ih_pWMfwwT9V"
   },
   "outputs": [
    {
     "data": {
      "text/plain": [
       "'\\nA141HP4LYPW,B003AI2VGA,3.0\\nA141HP4LYPW,B000063W1R,4.0\\nA141HP4LYPW,6304286961,5.0\\n'"
      ]
     },
     "execution_count": 6,
     "metadata": {},
     "output_type": "execute_result"
    }
   ],
   "source": [
    "#saves the movies/graph in the format of:\n",
    "'''\n",
    "A141HP4LYPW,B003AI2VGA,3.0\n",
    "A141HP4LYPW,B000063W1R,4.0\n",
    "A141HP4LYPW,6304286961,5.0\n",
    "'''\n",
    "#max_connected_gr_amazon_movies\n",
    "\n",
    "##### TEST \n",
    "#file_name_saved = amp.Save_Movies(max_connected_gr_amazon_movies)"
   ]
  },
  {
   "cell_type": "code",
   "execution_count": 7,
   "metadata": {
    "colab": {},
    "colab_type": "code",
    "id": "6kD31Ck8wT9g"
   },
   "outputs": [],
   "source": [
    "# returns a list in the format of:\n",
    "# [['userId', 'productId', 'score'], ['A141HP4LYPW', 'B003AI2VGA', '3.0']]\n",
    "#the_giant_component_read = amp.Read_Connected_Movies(\"Movies_Connected_4643_11.5.2020_21.11.17.txt\")\n",
    "\n",
    "##### TEST \n",
    "#the_giant_component_read = amp.Read_Connected_Movies(file_name_saved)\n",
    "#test[0].split(sep=\",\")"
   ]
  },
  {
   "cell_type": "code",
   "execution_count": 8,
   "metadata": {
    "colab": {},
    "colab_type": "code",
    "id": "Esv-XNKnwT90"
   },
   "outputs": [],
   "source": [
    "# it is mostly for a double check to see if the movies were saved to the file properly \n",
    "#and check if we read them and create a graph it will still be a connected graph or not\n",
    "\n",
    "##### TEST \n",
    "#grp_giant = grp.Create_Graph_From_List_WITH_Weight(the_giant_component_read)"
   ]
  },
  {
   "cell_type": "code",
   "execution_count": 9,
   "metadata": {},
   "outputs": [
    {
     "name": "stdout",
     "output_type": "stream",
     "text": [
      "BEFORE: # of nodes: 30082 ... # of edges: 38233\n"
     ]
    }
   ],
   "source": [
    "# double check if the numbers are matching before saving the records\n",
    "# and after creating the graph from the saved file\n",
    "print('BEFORE: # of nodes: {} ... # of edges: {}'.format(len(max_connected_gr_amazon_movies.nodes), len(max_connected_gr_amazon_movies.edges)))\n",
    "\n",
    "##### TEST \n",
    "#print('AFTER: # of nodes: {} ... # of edges: {}'.format(len(grp_giant.nodes), len(grp_giant.edges)))"
   ]
  },
  {
   "cell_type": "code",
   "execution_count": 10,
   "metadata": {
    "colab": {
     "base_uri": "https://localhost:8080/",
     "height": 54
    },
    "colab_type": "code",
    "id": "R4pCuVroGJHQ",
    "outputId": "5cf6fc85-a9a8-4165-ef14-c62aff747ffb"
   },
   "outputs": [],
   "source": [
    "# here is the check of the graph read\n",
    "\n",
    "##### TEST \n",
    "#grp.Is_Connected_Bipartite(grp_giant)"
   ]
  },
  {
   "cell_type": "code",
   "execution_count": 11,
   "metadata": {
    "colab": {},
    "colab_type": "code",
    "id": "0l8iLwOgjQYv"
   },
   "outputs": [],
   "source": [
    "# this is to fetch all nodes without edges, so that we can use them to predict the edges\n",
    "\n",
    "##### TEST \n",
    "#grp_giant_no_edges = grp.Create_Graph_From_List_NO_EDGE(grp_giant)\n",
    "#if you check it, you'll see no edges but nodes\n",
    "#grp_giant_no_edges.edges\n",
    "#list(grp_giant_no_weights.nodes)[0:5]\n",
    "#grp.Is_Connected_Bipartite(grp_giant_no_weights)"
   ]
  },
  {
   "cell_type": "code",
   "execution_count": 12,
   "metadata": {},
   "outputs": [],
   "source": [
    "def Normalize_Array(arr_to_normalize, axis=0):\n",
    "    if axis == 1:\n",
    "        arr_sum_per_row = arr_to_normalize.sum(axis=1)\n",
    "        arr_norm = arr_to_normalize/np.tile(arr_sum_per_row, (arr_sum_per_row.shape[0], 1)).T\n",
    "    elif axis == 0:\n",
    "        arr_sum_per_row = arr_to_normalize.sum(axis=0)\n",
    "        arr_norm = arr_to_normalize/np.tile(arr_sum_per_row, (arr_sum_per_row.shape[1], 1)).T\n",
    "    return arr_norm\n",
    "\n",
    "# normalize P values (between 0 and 1) so that they can reflect probabilities \n",
    "# the probability with itself will be the highest\n",
    "# !!! IMPORTANT !!!\n",
    "# the probability with movie nodes will be ignored since we are looking for the relations(similarity-measure) \n",
    "# with other users\n",
    "#P_norm = np.round(Normalize_Array(P), 6)"
   ]
  },
  {
   "cell_type": "code",
   "execution_count": 13,
   "metadata": {},
   "outputs": [
    {
     "name": "stdout",
     "output_type": "stream",
     "text": [
      "node0=A141HP4LYPW .. node1=B003AI2VGA .. edge01=True .. weight01=3.0\n",
      "Calculation time-P matrix generation from the graph: 0:01:24.508533\n"
     ]
    }
   ],
   "source": [
    "start_time = datetime.datetime.now()\n",
    "P = nx.to_numpy_matrix(max_connected_gr_amazon_movies)\n",
    "# by doing the below conversion, we are just considering the links between the nodes, we ignore the weights\n",
    "# we try to understand if considering the weights will benefit us or not\n",
    "#P[P > 0] = 1\n",
    "P_norm = Normalize_Array(P)\n",
    "\n",
    "#print(P)\n",
    "\n",
    "# TEST - see if the matrix-P shows the correct values (to be sure if it's not changing the order)\n",
    "# !!! IMPORTANT !!!\n",
    "# apparently, it doesn't write the movies first and users last or doesn't follow any order..\n",
    "node_0 = list(max_connected_gr_amazon_movies.nodes)[0]\n",
    "node_1 = list(max_connected_gr_amazon_movies.nodes)[1]\n",
    "edge_01 = max_connected_gr_amazon_movies.has_edge(node_0, node_1)\n",
    "if edge_01 == True:\n",
    "    weight_01 = max_connected_gr_amazon_movies.get_edge_data(node_0, node_1)['weight']\n",
    "\n",
    "# Bxxxxxx = top_nodes = movies\n",
    "print('node0={} .. node1={} .. edge01={} .. weight01={}'.format(node_0, node_1, edge_01, weight_01))\n",
    "node_list = list(max_connected_gr_amazon_movies.nodes)\n",
    "bottom_node_list = list(bottom_nodes)\n",
    "top_node_list = list(top_nodes)\n",
    "#print(node_list)\n",
    "#print('\\nbottom_nodes={}'.format(bottom_node_list))\n",
    "#print('\\ntop_nodes={}'.format(top_node_list))\n",
    "\n",
    "n_nodes = P_norm.shape[0]\n",
    "# initiate R matrix which includes the r values of each node and\n",
    "# having the highest relation of the node by itself, setting the diagonal to 1\n",
    "R = np.diag(np.ones(n_nodes), 0)\n",
    "beta = 0.15\n",
    "#R *= beta\n",
    "R_zero = R.copy()\n",
    "#print(P)\n",
    "#print(P_norm)\n",
    "#print(R)\n",
    "#print(R_zero)\n",
    "end_time = datetime.datetime.now()\n",
    "\n",
    "n_reviews = len(max_connected_gr_amazon_movies.edges)\n",
    "n_users = len(bottom_nodes)\n",
    "n_movies = len(top_nodes)\n",
    "\n",
    "print('Calculation time-P matrix generation from the graph: {}'.format(end_time-start_time))"
   ]
  },
  {
   "cell_type": "code",
   "execution_count": 14,
   "metadata": {},
   "outputs": [
    {
     "name": "stdout",
     "output_type": "stream",
     "text": [
      "this is a user: A141HP4LYPW\n"
     ]
    }
   ],
   "source": [
    "# Bxxxxxx = top_nodes = movies\n",
    "node_check = node_list[0]\n",
    "if node_check in top_node_list:\n",
    "    print('this is a movie: {}'.format(node_check))\n",
    "else:\n",
    "    print('this is a user: {}'.format(node_check))"
   ]
  },
  {
   "cell_type": "code",
   "execution_count": 15,
   "metadata": {},
   "outputs": [
    {
     "data": {
      "text/plain": [
       "[('A141HP4LYPW', 'B003AI2VGA'),\n",
       " ('A141HP4LYPW', 'B000063W1R'),\n",
       " ('A141HP4LYPW', '6304286961'),\n",
       " ('A141HP4LYPW', '5556167281'),\n",
       " ('A141HP4LYPW', '6303998690'),\n",
       " ('A141HP4LYPW', 'B000AMWIVM'),\n",
       " ('A141HP4LYPW', 'B00008G1PX'),\n",
       " ('A141HP4LYPW', 'B002YJMMBA'),\n",
       " ('A141HP4LYPW', 'B000KKQNRO'),\n",
       " ('A141HP4LYPW', 'B000VULA9E'),\n",
       " ('A141HP4LYPW', 'B00004W221'),\n",
       " ('A141HP4LYPW', 'B000J0XJC2'),\n",
       " ('A141HP4LYPW', 'B00005V9I1'),\n",
       " ('A141HP4LYPW', 'B00015HX90')]"
      ]
     },
     "execution_count": 15,
     "metadata": {},
     "output_type": "execute_result"
    }
   ],
   "source": [
    "list(max_connected_gr_amazon_movies.edges([node_list[0]]))\n",
    "#max_connected_gr_amazon_movies.edges(['B003AI2VGA']) \n",
    "#nx.edges(max_connected_gr_amazon_movies, ['B003AI2VGA'])\n",
    "#node_list.index('B003AI2VGA')"
   ]
  },
  {
   "cell_type": "code",
   "execution_count": 16,
   "metadata": {},
   "outputs": [
    {
     "name": "stdout",
     "output_type": "stream",
     "text": [
      "Calculation time-user-movie indexes: -1 day, 23:59:59.920511\n",
      "\n",
      "\n",
      "[1, 9, 23, 48, 51, 61, 71, 379, 397, 404, 415, 600, 602, 1132, 1138, 1149, 1151, 1153, 1541, 1547, 1585, 1612, 1630, 1656, 1660, 1732, 1740, 1774, 1804, 1981, 1983, 2124, 2127, 2257, 2261, 2265, 2849, 2854, 2859, 2862, 2867, 2884, 2912, 2959, 3100, 3175, 3181, 3321, 3354, 3362, 3377, 3389, 3538, 3540, 3603, 3613, 4037, 4039, 4065, 4067, 4071, 4076, 4104, 4148, 4181, 4182, 4184, 4191, 4195, 4211, 4483, 4487, 4499, 4502, 4510, 4522, 4530, 4533, 4574, 4616, 4618, 4628, 4673, 4674, 4675, 4718, 4778, 4780, 4882, 4921, 4948, 5101, 5135, 5375, 5377, 5381, 5384, 5391, 5395, 5460, 5499, 5575, 5651, 5671, 5674, 5684, 5687, 5708, 5711, 5718, 5882, 5902, 5910, 5929, 5937, 5941, 5952, 5968, 5990, 6009, 6037, 6041, 6043, 6067, 6213, 6215, 6227, 6242, 6294, 6304, 6311, 6321, 6325, 6358, 6378, 6404, 6410, 6417, 6450, 6454, 6464, 6469, 6476, 6484, 6489, 6500, 6504, 6513, 6580, 6593, 6601, 6866, 6885, 6903, 6916, 6920, 6957, 6960, 6967, 6970, 6976, 6982, 6994, 7009, 7053, 7062, 7092, 7104, 7178, 7180, 7183, 7194, 7198, 7338, 7389, 7402, 7404, 7442, 7444, 7511, 7527, 7532, 7557, 7830, 7846, 8242, 8396, 8399, 8421, 8431, 8450, 8457, 8458, 8460, 8467, 8481, 8540, 8567, 8569, 8574, 8606, 8610, 8741, 8796, 8811, 8813, 8965, 8971, 8975, 9008, 9009, 9085, 9087, 9088, 9124, 9127, 9129, 9134, 9136, 9214, 9217, 9222, 9224, 9227, 9230, 9324, 9326, 9329, 9335, 9348, 9350, 9360, 9411, 9414, 9423, 9837, 9839, 9844, 9909, 9911, 9998, 10003, 10005, 10008, 10010, 10071, 10190, 10268, 10648, 10662, 10667, 10669, 10671, 10673, 10684, 10696, 10705, 10706, 10711, 10724, 10747, 10951, 10957, 10998, 11009, 11010, 11151, 11294, 11313, 11316, 11321, 11491, 11567, 11624, 11705, 11732, 11747, 11749, 11820, 12167, 12169, 12176, 12187, 12189, 12211, 12212, 12252, 12264, 12295, 12297, 12317, 12343, 12354, 12358, 12359, 12576, 12583, 12617, 12633, 12766, 12785, 12793, 13403, 13404, 13428, 13433, 13443, 13456, 13486, 13487, 13490, 13564, 13570, 13582, 13628, 13630, 13641, 13691, 13693, 13701, 13725, 13757, 13766, 13791, 13882, 13887, 13912, 13914, 13918, 13925, 13936, 13942, 13944, 13956, 13959, 13974, 13989, 13992, 14002, 14014, 14294, 14335, 14349, 14356, 14396, 14426, 14502, 14736, 14871, 15090, 15190, 15349, 15353, 15369, 15378, 15380, 15385, 15497, 15499, 15504, 15582, 15648, 15672, 15674, 15681, 15695, 15716, 15742, 16385, 16386, 16412, 16416, 16419, 16427, 16431, 16442, 16451, 16493, 16539, 16563, 16567, 16603, 16604, 16626, 16714, 16736, 16742, 16944, 17072, 17122, 17140, 17144, 17198, 17199, 17200, 17250, 17252, 17327, 17408, 17412, 17414, 17443, 17460, 17462, 17768, 17771, 17774, 17784, 17822, 17833, 17848, 17855, 17858, 17867, 18359, 18362, 18366, 18402, 18412, 18413, 18414, 18425, 18481, 18501, 18513, 18531, 18555, 18644, 18758, 18759, 18778, 18782, 18787, 19012, 19024, 19461, 19462, 19467, 19476, 19480, 19487, 19490, 19504, 19508, 19531, 19539, 19543, 19550, 19835, 20021, 20089, 20136, 20151, 20155, 20156, 20163, 20168, 20170, 20247, 20248, 20250, 20258, 20261, 20263, 20268, 20270, 20279, 20283, 20308, 20362, 20368, 20371, 20374, 20413, 20423, 20431, 20460, 20493, 20500, 20501, 20513, 20529, 20618, 20633, 20638, 20686, 20689, 20735, 20738, 20742, 20756, 20805, 20807, 20821, 20846, 20850, 20877, 20880, 20884, 20915, 20923, 21061, 21097, 21110, 21130, 21152, 21158, 21176, 21207, 21209, 21366, 21379, 21385, 21390, 21399, 21432, 21445, 21511, 21522, 21523, 21525, 21538, 21546, 21548, 21579, 21580, 21902, 21918, 21979, 21981, 22040, 22053, 22073, 22190, 22238, 22240, 22332, 22350, 22412, 22435, 22483, 22485, 22567, 23125, 23129, 23147, 23159, 23225, 23227, 23233, 23236, 23240, 23248, 23252, 23363, 23402, 23411, 23421, 23432, 23439, 23448, 23451, 23453, 23476, 23477, 23516, 23518, 23535, 23540, 23702, 23712, 23716, 23732, 23745, 23747, 23751, 23828, 23966, 23976, 23982, 24036, 24040, 24047, 24051, 24056, 24072, 24079, 24083, 24086, 24128, 24235, 24328, 24331, 24333, 24339, 24392, 24402, 24407, 24427, 24430, 24601, 24604, 24651, 24657, 24662, 24663, 24665, 24668, 24677, 24723, 24726, 24736, 24815, 24834, 24907, 24910, 24913, 24918, 24921, 24966, 25021, 25029, 25030, 25032, 25036, 25055, 25066, 25145, 25155, 25156, 25159, 25162, 25164, 25219, 25221, 25278, 25317, 25519, 25524, 25577, 25583, 25590, 25601, 25604, 25629, 25632, 25643, 25674, 25681, 25705, 25707, 25709, 25710, 25720, 25742, 25746, 25751, 25753, 25760, 25799, 25802, 25811, 25814, 25898, 25900, 25986, 26003, 26042, 26089, 26092, 26093, 26095, 26099, 26110, 26115, 26124, 26143, 26254, 26583, 26642, 26648, 26667, 26668, 26670, 26692, 26694, 26698, 26712, 26869, 26870, 26871, 26915, 27123, 27330, 27338, 27358, 27366, 27373, 27391, 27405, 27413, 27436, 27473, 27480, 27486, 27499, 27504, 27506, 27510, 27515, 27810, 27812, 27835, 27850, 27872, 27894, 27910, 27912, 27934, 27948, 27958, 27985, 28212, 28213, 28220, 28225, 28292, 28309, 28336, 28352, 28354, 28398, 28404, 28411, 28469, 28506, 28595, 28620, 28634, 28639, 28653, 28661, 28663, 28758, 28759, 28775, 28842, 28844, 28849, 28873, 28895, 29109, 29113, 29118, 29121, 29480, 29516, 29527, 29529, 29553, 29560, 29568, 29572, 29577, 29582, 29592, 29594, 29748, 29751, 29806, 29851, 29875, 29893, 29895, 29906, 29923, 29929, 29945, 29946, 29957, 29964, 29970, 29976, 29987, 30013, 30023, 30026, 30028]\n"
     ]
    }
   ],
   "source": [
    "start_time = datetime.datetime.now()\n",
    "user_indexes = []\n",
    "movie_indexes = []\n",
    "for nn in node_list:\n",
    "    if nn in bottom_node_list:\n",
    "        user_indexes.append(node_list.index(nn))\n",
    "    else:\n",
    "        movie_indexes.append(node_list.index(nn))\n",
    "\n",
    "print('Calculation time-user-movie indexes: {}'.format(end_time-start_time))\n",
    "end_time = datetime.datetime.now()\n",
    "\n",
    "print('\\n')\n",
    "print(movie_indexes)\n",
    "# users are usually too many, so will not print them\n",
    "#print(user_indexes)\n"
   ]
  },
  {
   "cell_type": "code",
   "execution_count": 17,
   "metadata": {},
   "outputs": [],
   "source": [
    "# SUM-check\n",
    "#print('SUM-check')\n",
    "#P_norm.sum(axis=1)"
   ]
  },
  {
   "cell_type": "code",
   "execution_count": 18,
   "metadata": {},
   "outputs": [],
   "source": [
    "#savetxt(amp.FileNameUnique(prefix = \"P_norm_\", suffix = '.csv'), P_norm, delimiter=',')"
   ]
  },
  {
   "cell_type": "code",
   "execution_count": 19,
   "metadata": {},
   "outputs": [],
   "source": [
    "#df_movies = amp.Reorganize_Edges_DataFrame(max_connected_gr_amazon_movies, input_type = 'Graph')"
   ]
  },
  {
   "cell_type": "code",
   "execution_count": 20,
   "metadata": {},
   "outputs": [
    {
     "name": "stdout",
     "output_type": "stream",
     "text": [
      "step-0 completed .. date: 2020-05-12 16:52:19.606747\n",
      "step-1 completed .. date: 2020-05-12 16:58:44.020069\n",
      "step-2 completed .. date: 2020-05-12 17:05:26.121967\n",
      "Calculation time-steps walked: 0:19:41.178833\n"
     ]
    }
   ],
   "source": [
    "# with 40K records selected, \n",
    "# MEMORY of python hits to 45GB at some point and works around 34GB in general\n",
    "# CPU works at around 390%\n",
    "# there should be a better way to do this...\n",
    "# tried cupy but it fails in Mac (latest OS version doesn't have support)\n",
    "# Colab shows like importing cupy but then during the execution it fails at some point, couldn't fix it... \n",
    "# need to retry in a Windows laptop if cupy works or not..\n",
    "# but even if it works, the number users reviewing more than 1 movie is too few\n",
    "start_time = datetime.datetime.now()\n",
    "n_steps = 3\n",
    "\n",
    "for i in range(n_steps):\n",
    "    R = (1-beta)*np.dot(P_norm, R) + beta*R_zero\n",
    "    print('step-{} completed .. date: {}'.format(i, datetime.datetime.now()))\n",
    "    \n",
    "#print(R)\n",
    "end_time = datetime.datetime.now()\n",
    "print('Calculation time-steps walked: {}'.format(end_time-start_time))"
   ]
  },
  {
   "cell_type": "code",
   "execution_count": 72,
   "metadata": {},
   "outputs": [
    {
     "name": "stdout",
     "output_type": "stream",
     "text": [
      "R matrix values for the user (r vector of the user): \n",
      "[[[0.00211035 0.04508148 0.00238493 ... 0.         0.         0.        ]]]\n",
      "Top similarities: [11817, 23806, 23807, 23808, 23791, 23786, 1089, 188, 5066, 3155, 1911, 363, 1935, 195, 4492, 1488, 23795, 332, 783, 25829, 9301, 1668, 489, 652, 7, 6, 4, 0, 5, 2]\n",
      "[0.0002, 0.0002, 0.0002, 0.0002, 0.0002, 0.0002, 0.0002, 0.0002, 0.0002, 0.0002, 0.0002, 0.0002, 0.0002, 0.0002, 0.0002, 0.0002, 0.0002, 0.0003, 0.0003, 0.0003, 0.0003, 0.0003, 0.0003, 0.0005, 0.0007, 0.0014, 0.0021, 0.0021, 0.0021, 0.0024]\n"
     ]
    }
   ],
   "source": [
    "# user similarity check\n",
    "# fetch the values for node=0 (which is a user)\n",
    "ref_user_idx = 3\n",
    "# we will pick the most similar 10 users in this case\n",
    "# this value should be picked as around the below ratio and I believe, \n",
    "# if any of the top-similar users reviewed a movie, \n",
    "# we can guess like our user will watch the movie: WILL BE TESTED\n",
    "# OR we can pick a high number (>ratio) for the top similarity and the percentage>10 maybe counted as the candidate\n",
    "#top_similarity = n_reviews/n_movies\n",
    "top_similarity = 30\n",
    "user_test = np.array(list(R[ref_user_idx]))\n",
    "print('R matrix values for the user (r vector of the user): \\n{}'.format(user_test))\n",
    "\n",
    "# sort the values of each column from smaller to the bigger\n",
    "sorted_nodes = np.argsort(user_test)\n",
    "\n",
    "user_similarity = []\n",
    "\n",
    "# we will not consider the user himself or movies as similar nodes\n",
    "for idx in sorted_nodes[0][0]:\n",
    "    if idx != ref_user_idx and idx not in movie_indexes:\n",
    "        user_similarity.append(idx)\n",
    "        \n",
    "user_similarity_top = user_similarity[-top_similarity:]\n",
    "\n",
    "# ALL is too many, so we will not print it\n",
    "#print('Ordered similarities-ALL: {}'.format(user_similarity))\n",
    "print('Top similarities: {}'.format(user_similarity_top))\n",
    "\n",
    "#for usr in user_similarity_top:\n",
    "#    print(list(max_connected_gr_amazon_movies.nodes)[user_similarity_top[usr]])\n",
    "#print(list(max_connected_gr_amazon_movies.nodes)[user_similarity_top[0]])\n",
    "\n",
    "user_similarity_top_score = []\n",
    "for usr_top in user_similarity_top:\n",
    "    user_similarity_top_score.append(round(R[ref_user_idx, usr_top], 4))\n",
    "    \n",
    "print(user_similarity_top_score)"
   ]
  },
  {
   "cell_type": "code",
   "execution_count": 73,
   "metadata": {},
   "outputs": [],
   "source": [
    "# top_nodes = MOVIES, bottom_nodes = users\n",
    "user_reviewed = []\n",
    "user_reviewed_id = []\n",
    "movie_list_ref = []\n",
    "movie_reviewed = []\n",
    "movie_reviewed_id = []\n",
    "is_reviewed = []\n",
    "movie_score = []\n",
    "review_count_list = []\n",
    "\n",
    "movie_by_reference_user = list(max_connected_gr_amazon_movies.edges([node_list[ref_user_idx]]))\n",
    "\n",
    "for edge_m in movie_by_reference_user:\n",
    "    # if the second item is a user then we will add the first item to the movie_list\n",
    "    if edge_m[1].startswith('A'):\n",
    "        movie_list_ref.append(edge_m[0])\n",
    "    else:\n",
    "        movie_list_ref.append(edge_m[1])\n",
    "\n",
    "for u_idx in user_similarity_top:\n",
    "    user_name = node_list[u_idx]\n",
    "    for m in movie_list_ref:\n",
    "        m_idx = node_list.index(m)\n",
    "        is_reviewed.append(max_connected_gr_amazon_movies.has_edge(user_name, m))\n",
    "        user_reviewed.append(user_name)\n",
    "        user_reviewed_id.append(u_idx)\n",
    "        movie_reviewed.append(m)\n",
    "        movie_reviewed_id.append(m_idx)\n",
    "        try:\n",
    "            scr = max_connected_gr_amazon_movies.get_edge_data(user_name, m)['weight']\n",
    "        except:\n",
    "            scr = '...'  # NA - no review score\n",
    "        #scr = str(max_connected_gr_amazon_movies.get_edge_data(node_list[u_idx], m)['weight'])\n",
    "        #max_connected_gr_amazon_movies.get_edge_data(node_list[u_idx], 'B003AI2VGA')['weight']\n",
    "        movie_score.append(scr)\n",
    "        review_count = len(list(max_connected_gr_amazon_movies.edges([m])))\n",
    "        review_count_list.append(review_count)\n",
    "        \n",
    "        #is_reviewed = max_connected_gr_amazon_movies.get_edge_data(u, m)['weight']\n",
    "\n",
    "\n",
    "dict_summary = {'user': user_reviewed, 'movie': movie_reviewed, \n",
    "                'user_id': user_reviewed_id, 'movie_id': movie_reviewed_id, \n",
    "                'is_reviewed': is_reviewed, 'score': movie_score,\n",
    "               'n_review': review_count_list}\n",
    "\n",
    "'''\n",
    "dict_summary = {'user': user_reviewed, 'movie': movie_reviewed, \n",
    "                'user_id': user_reviewed_id, 'movie_id': movie_reviewed_id, \n",
    "                'is_reviewed': is_reviewed}\n",
    "'''\n",
    "\n",
    "df_summary = pd.DataFrame(dict_summary)"
   ]
  },
  {
   "cell_type": "code",
   "execution_count": 23,
   "metadata": {},
   "outputs": [],
   "source": [
    "#print(movie_by_reference_user)"
   ]
  },
  {
   "cell_type": "code",
   "execution_count": 24,
   "metadata": {},
   "outputs": [
    {
     "data": {
      "text/plain": [
       "'\\ntrue_values=len(df_summary.query(\"movie==\\'B003AI2VGA\\' and is_reviewed==True\"))\\ntotal_values=len(df_summary.query(\"movie==\\'B003AI2VGA\\'\"))\\n\\n# review ratio by similar users\\nratio_similar = true_values/total_values*100\\nprint(ratio_similar)\\n'"
      ]
     },
     "execution_count": 24,
     "metadata": {},
     "output_type": "execute_result"
    }
   ],
   "source": [
    "'''\n",
    "true_values=len(df_summary.query(\"movie=='B003AI2VGA' and is_reviewed==True\"))\n",
    "total_values=len(df_summary.query(\"movie=='B003AI2VGA'\"))\n",
    "\n",
    "# review ratio by similar users\n",
    "ratio_similar = true_values/total_values*100\n",
    "print(ratio_similar)\n",
    "'''"
   ]
  },
  {
   "cell_type": "code",
   "execution_count": 38,
   "metadata": {},
   "outputs": [],
   "source": [
    "# DOUBLE CHECK if edge calculation is correct\n",
    "# The problem is many of the users just review 1 movie or very few movies\n",
    "# total review count per user. How many movies did a specific user reviewed?\n",
    "\n",
    "'''\n",
    "user_review_counts = []\n",
    "user_review_counts_ALL = 0\n",
    "# total review count per movie. How many users did a specific movie reviewed by?\n",
    "movie_review_counts = []\n",
    "movie_review_counts_ALL = 0\n",
    "\n",
    "for usr in bottom_node_list:\n",
    "    usr_count = len(list(max_connected_gr_amazon_movies.edges([usr])))\n",
    "    user_review_counts.append([usr, usr_count])\n",
    "    user_review_counts_ALL += usr_count\n",
    "    \n",
    "for mov in top_node_list:\n",
    "    mov_count = len(list(max_connected_gr_amazon_movies.edges([mov])))\n",
    "    user_review_counts.append([mov, mov_count])\n",
    "    movie_review_counts_ALL += mov_count\n",
    "    \n",
    "print(user_review_counts)\n",
    "'''"
   ]
  },
  {
   "cell_type": "code",
   "execution_count": 74,
   "metadata": {},
   "outputs": [
    {
     "name": "stdout",
     "output_type": "stream",
     "text": [
      "# of users in the evaluation: 30\n",
      "Total # of MOVIEs: 788 USERS: 29294 REVIEWs: 38233,  in the graph\n",
      "\n",
      "\n",
      "                  user-movie  ratio_similar  review_count\n",
      "0  (A1I7QGUDP04, B003AI2VGA)      20.000000             7\n",
      "1  (A1I7QGUDP04, B0016OLXN2)      23.333333           188\n",
      "2  (A1I7QGUDP04, B001QB5SCM)      23.333333           141\n",
      "3  (A1I7QGUDP04, B000KKQNRO)      30.000000           607\n",
      "4  (A1I7QGUDP04, B008X1O7KM)       3.333333           205\n",
      "5  (A1I7QGUDP04, B000NOIVT0)      53.333333           111\n",
      "6  (A1I7QGUDP04, B0006HBZXS)      30.000000           122\n",
      "7  (A1I7QGUDP04, B001TGV882)      23.333333           117\n"
     ]
    }
   ],
   "source": [
    "ratio_review_list = []\n",
    "review_count_list2 = []\n",
    "\n",
    "for m in movie_list_ref:\n",
    "    true_values = len(df_summary.query(\"movie=='\" + m + \"' and is_reviewed==True\"))\n",
    "    total_values = len(df_summary.query(\"movie=='\" + m + \"'\"))\n",
    "    review_count = len(list(max_connected_gr_amazon_movies.edges([m])))\n",
    "    # review ratio by similar users\n",
    "    ratio_similar = true_values/total_values*100\n",
    "    ratio_review_list.append(ratio_similar)\n",
    "    review_count_list2.append(review_count)\n",
    "\n",
    "#dict_summary_ratio = {'movie': movie_list_ref, 'ratio_similar': ratio_review_list}\n",
    "dict_summary_ratio = {'user-movie': movie_by_reference_user, 'ratio_similar': ratio_review_list,\n",
    "                     'review_count': review_count_list2}\n",
    "\n",
    "df_summary_ratio = pd.DataFrame(dict_summary_ratio)\n",
    "print('# of users in the evaluation: {}'.format(top_similarity))\n",
    "print('Total # of MOVIEs: {} USERS: {} REVIEWs: {},  in the graph'.format(n_movies, n_users, n_reviews))\n",
    "print('\\n')\n",
    "print(df_summary_ratio)"
   ]
  },
  {
   "cell_type": "code",
   "execution_count": 28,
   "metadata": {},
   "outputs": [
    {
     "data": {
      "text/plain": [
       "10"
      ]
     },
     "execution_count": 28,
     "metadata": {},
     "output_type": "execute_result"
    }
   ],
   "source": [
    "len(list(max_connected_gr_amazon_movies.edges(['B0006N2DS8'])))"
   ]
  },
  {
   "cell_type": "code",
   "execution_count": 29,
   "metadata": {},
   "outputs": [
    {
     "data": {
      "text/plain": [
       "EdgeDataView([('B0006N2DS8', 'A328S9RN3U5'), ('B0006N2DS8', 'AVQ6TZYX1V4'), ('B0006N2DS8', 'A312U8J4NSK'), ('B0006N2DS8', 'ANGNKTK2J7J'), ('B0006N2DS8', 'A29FFT26RF6'), ('B0006N2DS8', 'A1VP89BT4LL'), ('B0006N2DS8', 'A3AZ4XMN4DB'), ('B0006N2DS8', 'A22GAQ5R9EE'), ('B0006N2DS8', 'A1PVM3V959J'), ('B0006N2DS8', 'A1D4NUM28WI')])"
      ]
     },
     "execution_count": 29,
     "metadata": {},
     "output_type": "execute_result"
    }
   ],
   "source": [
    "max_connected_gr_amazon_movies.edges(['B0006N2DS8'])"
   ]
  },
  {
   "cell_type": "code",
   "execution_count": 30,
   "metadata": {},
   "outputs": [
    {
     "data": {
      "text/html": [
       "<div>\n",
       "<style scoped>\n",
       "    .dataframe tbody tr th:only-of-type {\n",
       "        vertical-align: middle;\n",
       "    }\n",
       "\n",
       "    .dataframe tbody tr th {\n",
       "        vertical-align: top;\n",
       "    }\n",
       "\n",
       "    .dataframe thead th {\n",
       "        text-align: right;\n",
       "    }\n",
       "</style>\n",
       "<table border=\"1\" class=\"dataframe\">\n",
       "  <thead>\n",
       "    <tr style=\"text-align: right;\">\n",
       "      <th></th>\n",
       "      <th>user</th>\n",
       "      <th>movie</th>\n",
       "      <th>user_id</th>\n",
       "      <th>movie_id</th>\n",
       "      <th>is_reviewed</th>\n",
       "      <th>score</th>\n",
       "      <th>n_review</th>\n",
       "    </tr>\n",
       "  </thead>\n",
       "  <tbody>\n",
       "    <tr>\n",
       "      <td>308</td>\n",
       "      <td>A16CZRQL23N</td>\n",
       "      <td>B008JAG4GW</td>\n",
       "      <td>489</td>\n",
       "      <td>20807</td>\n",
       "      <td>True</td>\n",
       "      <td>4.0</td>\n",
       "      <td>17</td>\n",
       "    </tr>\n",
       "  </tbody>\n",
       "</table>\n",
       "</div>"
      ],
      "text/plain": [
       "            user       movie  user_id  movie_id  is_reviewed score  n_review\n",
       "308  A16CZRQL23N  B008JAG4GW      489     20807         True   4.0        17"
      ]
     },
     "execution_count": 30,
     "metadata": {},
     "output_type": "execute_result"
    }
   ],
   "source": [
    "# returns the top-close users reviewed the below movie\n",
    "df_summary.query(\"movie=='B008JAG4GW' and is_reviewed==True\")"
   ]
  },
  {
   "cell_type": "code",
   "execution_count": 31,
   "metadata": {},
   "outputs": [
    {
     "name": "stdout",
     "output_type": "stream",
     "text": [
      "            user       movie  user_id  movie_id  is_reviewed score  n_review\n",
      "0    A35ZK3M8L9J  B003AI2VGA      652         1        False   ...         7\n",
      "1    A35ZK3M8L9J  B000063W1R      652        71        False   ...       309\n",
      "2    A35ZK3M8L9J  B0001G6PZC      652       602         True   5.0       539\n",
      "3    A35ZK3M8L9J  B00022VM5I      652      3100         True   5.0        98\n",
      "4    A35ZK3M8L9J  B001MBE63I      652      3362        False   ...        17\n",
      "..           ...         ...      ...       ...          ...   ...       ...\n",
      "595  A3V0T37BKLK  B0001WTUZI    29578     23966        False   ...        13\n",
      "596  A3V0T37BKLK  B008UO5U9E    29578     24128        False   ...       133\n",
      "597  A3V0T37BKLK  B001TGV882    29578     28225        False   ...       117\n",
      "598  A3V0T37BKLK  B00112S8RS    29578     28775        False   ...       151\n",
      "599  A3V0T37BKLK  B000AYEL9M    29578     29577         True   5.0         5\n",
      "\n",
      "[600 rows x 7 columns]\n"
     ]
    }
   ],
   "source": [
    "#pd.set_option('display.height', 500)\n",
    "pd.set_option('display.max_rows', 300)\n",
    "print(df_summary)"
   ]
  },
  {
   "cell_type": "code",
   "execution_count": 32,
   "metadata": {},
   "outputs": [
    {
     "name": "stdout",
     "output_type": "stream",
     "text": [
      "3.0\n",
      "B00006HAXW\n"
     ]
    }
   ],
   "source": [
    "## TEST\n",
    "u_idx = 0\n",
    "#weight_tst = max_connected_gr_amazon_movies.get_edge_data(node_list[u_idx], 'A141HP4LYPW')['weight']\n",
    "weight_tst = max_connected_gr_amazon_movies.get_edge_data(node_list[u_idx], 'B003AI2VGA')['weight']\n",
    "print(weight_tst)\n",
    "list(max_connected_gr_amazon_movies.edges([node_list[u_idx]]))\n",
    "print(node_list[9])"
   ]
  },
  {
   "cell_type": "code",
   "execution_count": 33,
   "metadata": {},
   "outputs": [
    {
     "data": {
      "text/plain": [
       "dict"
      ]
     },
     "execution_count": 33,
     "metadata": {},
     "output_type": "execute_result"
    }
   ],
   "source": [
    "type(max_connected_gr_amazon_movies.get_edge_data(node_list[u_idx], 'B003AI2VGA'))"
   ]
  },
  {
   "cell_type": "code",
   "execution_count": 34,
   "metadata": {},
   "outputs": [
    {
     "data": {
      "text/plain": [
       "networkx.classes.graph.Graph"
      ]
     },
     "execution_count": 34,
     "metadata": {},
     "output_type": "execute_result"
    }
   ],
   "source": [
    "type(max_connected_gr_amazon_movies)"
   ]
  },
  {
   "cell_type": "code",
   "execution_count": 35,
   "metadata": {},
   "outputs": [
    {
     "ename": "TypeError",
     "evalue": "'NoneType' object is not subscriptable",
     "output_type": "error",
     "traceback": [
      "\u001b[0;31m---------------------------------------------------------------------------\u001b[0m",
      "\u001b[0;31mTypeError\u001b[0m                                 Traceback (most recent call last)",
      "\u001b[0;32m<ipython-input-35-b40a49c76cbe>\u001b[0m in \u001b[0;36m<module>\u001b[0;34m\u001b[0m\n\u001b[1;32m      2\u001b[0m \u001b[0mm\u001b[0m\u001b[0;34m=\u001b[0m\u001b[0;34m'B003AI2VGA'\u001b[0m\u001b[0;34m\u001b[0m\u001b[0;34m\u001b[0m\u001b[0m\n\u001b[1;32m      3\u001b[0m \u001b[0;31m#max_connected_gr_amazon_movies.get_edge_data(node_list[u_idx], 'A141HP4LYPW')['weight']\u001b[0m\u001b[0;34m\u001b[0m\u001b[0;34m\u001b[0m\u001b[0;34m\u001b[0m\u001b[0m\n\u001b[0;32m----> 4\u001b[0;31m \u001b[0mtype\u001b[0m\u001b[0;34m(\u001b[0m\u001b[0mmax_connected_gr_amazon_movies\u001b[0m\u001b[0;34m.\u001b[0m\u001b[0mget_edge_data\u001b[0m\u001b[0;34m(\u001b[0m\u001b[0mnode_list\u001b[0m\u001b[0;34m[\u001b[0m\u001b[0mu_idx\u001b[0m\u001b[0;34m]\u001b[0m\u001b[0;34m,\u001b[0m \u001b[0mm\u001b[0m\u001b[0;34m)\u001b[0m\u001b[0;34m[\u001b[0m\u001b[0;34m'weight'\u001b[0m\u001b[0;34m]\u001b[0m\u001b[0;34m)\u001b[0m\u001b[0;34m\u001b[0m\u001b[0;34m\u001b[0m\u001b[0m\n\u001b[0m",
      "\u001b[0;31mTypeError\u001b[0m: 'NoneType' object is not subscriptable"
     ]
    }
   ],
   "source": [
    "u_idx = 9\n",
    "m='B003AI2VGA'\n",
    "#max_connected_gr_amazon_movies.get_edge_data(node_list[u_idx], 'A141HP4LYPW')['weight']\n",
    "type(max_connected_gr_amazon_movies.get_edge_data(node_list[u_idx], m)['weight'])"
   ]
  }
 ],
 "metadata": {
  "colab": {
   "collapsed_sections": [],
   "name": "Amazon_movies.ipynb",
   "provenance": []
  },
  "kernelspec": {
   "display_name": "Python 3",
   "language": "python",
   "name": "python3"
  },
  "language_info": {
   "codemirror_mode": {
    "name": "ipython",
    "version": 3
   },
   "file_extension": ".py",
   "mimetype": "text/x-python",
   "name": "python",
   "nbconvert_exporter": "python",
   "pygments_lexer": "ipython3",
   "version": "3.7.4"
  }
 },
 "nbformat": 4,
 "nbformat_minor": 1
}
