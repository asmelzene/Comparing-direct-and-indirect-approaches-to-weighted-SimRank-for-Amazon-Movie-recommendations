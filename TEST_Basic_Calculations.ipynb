{
 "cells": [
  {
   "cell_type": "code",
   "execution_count": 18,
   "metadata": {},
   "outputs": [],
   "source": [
    "import numpy as np\n",
    "import Amazon_Movie_Parser as amp\n",
    "import Graph_Amazon_Movies as grp\n",
    "# save numpy array as csv file\n",
    "from numpy import savetxt\n",
    "# load numpy array from csv file\n",
    "from numpy import loadtxt\n",
    "import networkx as nx"
   ]
  },
  {
   "cell_type": "code",
   "execution_count": 2,
   "metadata": {},
   "outputs": [
    {
     "name": "stdout",
     "output_type": "stream",
     "text": [
      "[12 14 30]\n",
      "[[12 12 12]\n",
      " [14 14 14]\n",
      " [30 30 30]]\n",
      "[[0.16666667 0.33333333 0.5       ]\n",
      " [0.07142857 0.35714286 0.57142857]\n",
      " [0.66666667 0.13333333 0.2       ]]\n"
     ]
    }
   ],
   "source": [
    "# Normalization test\n",
    "tt = np.array([[2, 4, 6], [1, 5, 8], [20, 4, 6]])\n",
    "#print(tt.mean(axis=1))\n",
    "#tt_norm=tt/tt.mean(axis=1)\n",
    "tt_sum = tt.sum(axis=1)\n",
    "print(tt.sum(axis=1))\n",
    "print(np.tile(tt_sum, (3, 1)).T)\n",
    "# divide each element in the row with the sum of the row so the sum will be equal to 1\n",
    "tt_norm=tt/np.tile(tt_sum, (3, 1)).T\n",
    "print(tt_norm)"
   ]
  },
  {
   "cell_type": "code",
   "execution_count": 57,
   "metadata": {},
   "outputs": [],
   "source": [
    "def Normalize_Array(arr_to_normalize, axis=0):\n",
    "    if axis == 1:\n",
    "        arr_sum_per_row = arr_to_normalize.sum(axis=1)\n",
    "        arr_norm = arr_to_normalize/np.tile(arr_sum_per_row, (arr_sum_per_row.shape[0], 1)).T\n",
    "    elif axis == 0:\n",
    "        arr_sum_per_row = arr_to_normalize.sum(axis=0)\n",
    "        arr_norm = arr_to_normalize/np.tile(arr_sum_per_row, (arr_sum_per_row.shape[1], 1)).T\n",
    "    return arr_norm"
   ]
  },
  {
   "cell_type": "code",
   "execution_count": 4,
   "metadata": {},
   "outputs": [
    {
     "ename": "NameError",
     "evalue": "name 'df_movies' is not defined",
     "output_type": "error",
     "traceback": [
      "\u001b[1;31m---------------------------------------------------------------------------\u001b[0m",
      "\u001b[1;31mNameError\u001b[0m                                 Traceback (most recent call last)",
      "\u001b[1;32m<ipython-input-4-28bcb8e32943>\u001b[0m in \u001b[0;36m<module>\u001b[1;34m\u001b[0m\n\u001b[0;32m      1\u001b[0m \u001b[1;31m#edge_index = df_movies.query(\"movieId == 'A141HP4LYPW' and userId == 'B003AI2VGA'\").index\u001b[0m\u001b[1;33m\u001b[0m\u001b[1;33m\u001b[0m\u001b[1;33m\u001b[0m\u001b[0m\n\u001b[1;32m----> 2\u001b[1;33m \u001b[0medge_index\u001b[0m \u001b[1;33m=\u001b[0m \u001b[0mdf_movies\u001b[0m\u001b[1;33m.\u001b[0m\u001b[0mquery\u001b[0m\u001b[1;33m(\u001b[0m\u001b[1;34m\"movieId == 'A141HP4LYPW' and userId == 'B003AI2VGAzzzzz'\"\u001b[0m\u001b[1;33m)\u001b[0m\u001b[1;33m.\u001b[0m\u001b[0mindex\u001b[0m\u001b[1;33m\u001b[0m\u001b[1;33m\u001b[0m\u001b[0m\n\u001b[0m\u001b[0;32m      3\u001b[0m \u001b[1;32mif\u001b[0m \u001b[0mlen\u001b[0m\u001b[1;33m(\u001b[0m\u001b[0medge_index\u001b[0m\u001b[1;33m)\u001b[0m \u001b[1;33m!=\u001b[0m \u001b[1;36m0\u001b[0m\u001b[1;33m:\u001b[0m\u001b[1;33m\u001b[0m\u001b[1;33m\u001b[0m\u001b[0m\n\u001b[0;32m      4\u001b[0m     \u001b[0mdf_movies\u001b[0m\u001b[1;33m.\u001b[0m\u001b[0miloc\u001b[0m\u001b[1;33m[\u001b[0m\u001b[0medge_index\u001b[0m\u001b[1;33m[\u001b[0m\u001b[1;36m0\u001b[0m\u001b[1;33m]\u001b[0m\u001b[1;33m,\u001b[0m \u001b[1;36m2\u001b[0m\u001b[1;33m]\u001b[0m\u001b[1;33m\u001b[0m\u001b[1;33m\u001b[0m\u001b[0m\n\u001b[0;32m      5\u001b[0m \u001b[1;32melse\u001b[0m\u001b[1;33m:\u001b[0m\u001b[1;33m\u001b[0m\u001b[1;33m\u001b[0m\u001b[0m\n",
      "\u001b[1;31mNameError\u001b[0m: name 'df_movies' is not defined"
     ]
    }
   ],
   "source": [
    "#edge_index = df_movies.query(\"movieId == 'A141HP4LYPW' and userId == 'B003AI2VGA'\").index\n",
    "edge_index = df_movies.query(\"movieId == 'A141HP4LYPW' and userId == 'B003AI2VGAzzzzz'\").index\n",
    "if len(edge_index) != 0:\n",
    "    df_movies.iloc[edge_index[0], 2]\n",
    "else:\n",
    "    print('no edge found')\n",
    "#df_movies.loc[edge_index[0], 'score']"
   ]
  },
  {
   "cell_type": "code",
   "execution_count": null,
   "metadata": {},
   "outputs": [],
   "source": [
    "arr_sum_per_row = arr_to_normalize.sum(axis=1)\n",
    "arr_norm = arr_to_normalize/np.tile(arr_sum_per_row, (arr_sum_per_row.shape[0], 1)).T"
   ]
  },
  {
   "cell_type": "code",
   "execution_count": 8,
   "metadata": {},
   "outputs": [],
   "source": [
    "lst_test = [('A141HP4LYPW', 'B003AI2VGA', '3.0'),\n",
    "     ('B000063W1R', 'A141HP4LYPW', '4.0'),\n",
    "     ('6304286961', 'A141HP4LYPW', '5.0'),\n",
    "     ('A141HP4LYPW', '5556167281', '5.0')]\n",
    "\n",
    "# create a sample graph with edges\n",
    "def create_sample_graph(lst_test):\n",
    "    '''\n",
    "    lst_test = [('A141HP4LYPW', 'B003AI2VGA', '3.0'),\n",
    "     ('B000063W1R', 'A141HP4LYPW', '4.0'),\n",
    "     ('6304286961', 'A141HP4LYPW', '5.0'),\n",
    "     ('A141HP4LYPW', '5556167281', '5.0')]\n",
    "    '''\n",
    "    print(lst_test)\n",
    "\n",
    "    df_movies = amp.Reorganize_Edges_DataFrame(lst_test)\n",
    "    \n",
    "    return df_movies"
   ]
  },
  {
   "cell_type": "code",
   "execution_count": 22,
   "metadata": {},
   "outputs": [],
   "source": [
    "lst_test = [('A141HP4LYPW', 'B003AI2VGA', '3.0'),\n",
    "     ('B000063W1R', 'A141HP4LYPW', '4.0'),\n",
    "     ('6304286961', 'A141HP4LYPW', '5.0'),\n",
    "     ('A141HP4LYPW', '5556167281', '5.0')]\n",
    "\n",
    "grp1 = grp.Graph_Amazon()\n",
    "grp_test=grp1.Create_Graph_From_List_WITH_Weight(lst_test)"
   ]
  },
  {
   "cell_type": "code",
   "execution_count": 62,
   "metadata": {},
   "outputs": [
    {
     "data": {
      "text/plain": [
       "EdgeDataView([('A141HP4LYPW', 'B003AI2VGA', '3.0'), ('A141HP4LYPW', 'B000063W1R', '4.0'), ('A141HP4LYPW', '6304286961', '5.0'), ('A141HP4LYPW', '5556167281', '5.0')])"
      ]
     },
     "execution_count": 62,
     "metadata": {},
     "output_type": "execute_result"
    }
   ],
   "source": [
    "grp_test.edges.data('weight', default=1)"
   ]
  },
  {
   "cell_type": "code",
   "execution_count": 60,
   "metadata": {},
   "outputs": [
    {
     "data": {
      "text/plain": [
       "NodeView(('A141HP4LYPW', 'B003AI2VGA', 'B000063W1R', '6304286961', '5556167281'))"
      ]
     },
     "execution_count": 60,
     "metadata": {},
     "output_type": "execute_result"
    }
   ],
   "source": [
    "grp_test.nodes"
   ]
  },
  {
   "cell_type": "code",
   "execution_count": 73,
   "metadata": {},
   "outputs": [
    {
     "data": {
      "text/plain": [
       "'B003AI2VGA'"
      ]
     },
     "execution_count": 73,
     "metadata": {},
     "output_type": "execute_result"
    }
   ],
   "source": [
    "list(grp_test.nodes)[1]"
   ]
  },
  {
   "cell_type": "code",
   "execution_count": 64,
   "metadata": {},
   "outputs": [
    {
     "data": {
      "text/plain": [
       "False"
      ]
     },
     "execution_count": 64,
     "metadata": {},
     "output_type": "execute_result"
    }
   ],
   "source": [
    "grp_test.has_edge('A141HP4LYPW', 'B003AI2VGAx')"
   ]
  },
  {
   "cell_type": "code",
   "execution_count": 70,
   "metadata": {},
   "outputs": [],
   "source": [
    "gdata=grp_test.get_edge_data('A141HP4LYPW', 'B003AI2VGA')\n",
    "print(gdata)"
   ]
  },
  {
   "cell_type": "code",
   "execution_count": 72,
   "metadata": {},
   "outputs": [
    {
     "data": {
      "text/plain": [
       "'3.0'"
      ]
     },
     "execution_count": 72,
     "metadata": {},
     "output_type": "execute_result"
    }
   ],
   "source": [
    "gdata['weight']"
   ]
  },
  {
   "cell_type": "code",
   "execution_count": 74,
   "metadata": {},
   "outputs": [
    {
     "name": "stdout",
     "output_type": "stream",
     "text": [
      "[[0.         0.17647059 0.23529412 0.29411765 0.29411765]\n",
      " [1.         0.         0.         0.         0.        ]\n",
      " [1.         0.         0.         0.         0.        ]\n",
      " [1.         0.         0.         0.         0.        ]\n",
      " [1.         0.         0.         0.         0.        ]]\n",
      "[[1. 0. 0. 0. 0.]\n",
      " [0. 1. 0. 0. 0.]\n",
      " [0. 0. 1. 0. 0.]\n",
      " [0. 0. 0. 1. 0.]\n",
      " [0. 0. 0. 0. 1.]]\n",
      "[[1. 0. 0. 0. 0.]\n",
      " [0. 1. 0. 0. 0.]\n",
      " [0. 0. 1. 0. 0.]\n",
      " [0. 0. 0. 1. 0.]\n",
      " [0. 0. 0. 0. 1.]]\n"
     ]
    }
   ],
   "source": [
    "# this gives the first n nodes as movies and the rest as users\n",
    "# it other words top_nodes (node group with fewer nodes in it) are listed first\n",
    "P = nx.to_numpy_matrix(grp_test)  ## corresponds to M in the notes\n",
    "P_norm = Normalize_Array(P)\n",
    "\n",
    "n_nodes = P.shape[0]   ## P = nxn matrix\n",
    "R = np.diag(np.ones(n_nodes))\n",
    "R_zero = R.copy()\n",
    "beta = 0.15\n",
    "print(P_norm)\n",
    "print(R)\n",
    "print(R_zero)"
   ]
  },
  {
   "cell_type": "code",
   "execution_count": 10,
   "metadata": {},
   "outputs": [],
   "source": [
    "R_P = R.copy()\n",
    "R_R = R.copy()"
   ]
  },
  {
   "cell_type": "code",
   "execution_count": 78,
   "metadata": {},
   "outputs": [
    {
     "name": "stdout",
     "output_type": "stream",
     "text": [
      "[[0.33667594 0.03875625 0.051675   0.06459375 0.50829906]\n",
      " [0.24264844 0.21364906 0.08230656 0.0932875  0.36810844]\n",
      " [0.24264844 0.06364906 0.23230656 0.0932875  0.36810844]\n",
      " [0.24264844 0.06364906 0.08230656 0.2432875  0.36810844]\n",
      " [0.24264844 0.06364906 0.08230656 0.0932875  0.51810844]]\n",
      "[[0.33667594 0.11705719 0.15607625 0.19509531 0.19509531]\n",
      " [0.21961875 0.26124375 0.148325   0.18540625 0.18540625]\n",
      " [0.21961875 0.11124375 0.298325   0.18540625 0.18540625]\n",
      " [0.21961875 0.11124375 0.148325   0.33540625 0.18540625]\n",
      " [0.29791969 0.09742594 0.12990125 0.16237656 0.31237656]]\n"
     ]
    }
   ],
   "source": [
    "R_P = (1-beta)*np.dot(P_norm, R_P) + beta*R_zero\n",
    "print(R_P)\n",
    "\n",
    "# since there is no direction, using P or R as \n",
    "R_R = (1-beta)*np.dot(R_R, P_norm) + beta*R_zero\n",
    "print(R_R)"
   ]
  }
 ],
 "metadata": {
  "colab": {
   "collapsed_sections": [],
   "name": "Amazon_movies.ipynb",
   "provenance": []
  },
  "kernelspec": {
   "display_name": "Python 3",
   "language": "python",
   "name": "python3"
  },
  "language_info": {
   "codemirror_mode": {
    "name": "ipython",
    "version": 3
   },
   "file_extension": ".py",
   "mimetype": "text/x-python",
   "name": "python",
   "nbconvert_exporter": "python",
   "pygments_lexer": "ipython3",
   "version": "3.7.1"
  }
 },
 "nbformat": 4,
 "nbformat_minor": 1
}
