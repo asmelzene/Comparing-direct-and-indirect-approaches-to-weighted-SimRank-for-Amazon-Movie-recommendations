{
 "cells": [
  {
   "cell_type": "code",
   "execution_count": 105,
   "metadata": {},
   "outputs": [],
   "source": [
    "import numpy as np\n",
    "import Amazon_Movie_Parser as amp\n",
    "# save numpy array as csv file\n",
    "from numpy import savetxt\n",
    "# load numpy array from csv file\n",
    "from numpy import loadtxt"
   ]
  },
  {
   "cell_type": "code",
   "execution_count": 86,
   "metadata": {},
   "outputs": [
    {
     "name": "stdout",
     "output_type": "stream",
     "text": [
      "[12 14 30]\n",
      "[[12 12 12]\n",
      " [14 14 14]\n",
      " [30 30 30]]\n",
      "[[0.16666667 0.33333333 0.5       ]\n",
      " [0.07142857 0.35714286 0.57142857]\n",
      " [0.66666667 0.13333333 0.2       ]]\n"
     ]
    }
   ],
   "source": [
    "# Normalization test\n",
    "tt = np.array([[2, 4, 6], [1, 5, 8], [20, 4, 6]])\n",
    "#print(tt.mean(axis=1))\n",
    "#tt_norm=tt/tt.mean(axis=1)\n",
    "tt_sum = tt.sum(axis=1)\n",
    "print(tt.sum(axis=1))\n",
    "print(np.tile(tt_sum, (3, 1)).T)\n",
    "# divide each element in the row with the sum of the row so the sum will be equal to 1\n",
    "tt_norm=tt/np.tile(tt_sum, (3, 1)).T\n",
    "print(tt_norm)"
   ]
  },
  {
   "cell_type": "code",
   "execution_count": 101,
   "metadata": {},
   "outputs": [],
   "source": [
    "def Normalize_Array(arr_to_normalize):\n",
    "    arr_sum_per_row = arr_to_normalize.sum(axis=1)\n",
    "    arr_norm = arr_to_normalize/np.tile(arr_sum_per_row, (arr_sum_per_row.shape[0], 1)).T\n",
    "    return arr_norm"
   ]
  },
  {
   "cell_type": "code",
   "execution_count": null,
   "metadata": {},
   "outputs": [],
   "source": [
    "def Normalize_Array1(arr_to_normalize):\n",
    "    n_rows = arr_to_normalize.shape[0]\n",
    "    arr_sum_per_row = arr_to_normalize.sum(axis=1)\n",
    "    arr_norm = arr_to_normalize/np.tile(arr_sum_per_row, (n_rows, 1)).T\n",
    "    i = 0\n",
    "    for i in range(n_rows):\n",
    "        j = 0\n",
    "        for j in range(n_rows):\n",
    "            arr_norm[j][i] = arr_norm[i][j]\n",
    "            j += 1\n",
    "    i += 1\n",
    "    \n",
    "    return arr_norm"
   ]
  },
  {
   "cell_type": "code",
   "execution_count": null,
   "metadata": {},
   "outputs": [],
   "source": [
    "lst_test = [('A141HP4LYPW', 'B003AI2VGA', '3.0'),\n",
    " ('B000063W1R', 'A141HP4LYPW', '4.0'),\n",
    " ('6304286961', 'A141HP4LYPW', '5.0'),\n",
    " ('A141HP4LYPW', '5556167281', '5.0')]\n",
    "print(lst_test)\n",
    "\n",
    "lst_ordered = amp.Reorganize_Edges_List(lst_test)\n",
    "print(lst_ordered)"
   ]
  },
  {
   "cell_type": "code",
   "execution_count": 2,
   "metadata": {},
   "outputs": [
    {
     "name": "stdout",
     "output_type": "stream",
     "text": [
      "[('A141HP4LYPW', 'B003AI2VGA', '3.0'), ('B000063W1R', 'A141HP4LYPW', '4.0'), ('6304286961', 'A141HP4LYPW', '5.0'), ('A141HP4LYPW', '5556167281', '5.0')]\n",
      "Graph has been reorganized as a DataFrame, row format: ['userId', 'movieId', 'score']\n",
      "       userId      movieId score\n",
      "0  B003AI2VGA  A141HP4LYPW   3.0\n",
      "1  B000063W1R  A141HP4LYPW   4.0\n",
      "2  6304286961  A141HP4LYPW   5.0\n",
      "3  5556167281  A141HP4LYPW   5.0\n"
     ]
    }
   ],
   "source": [
    "lst_test = [('A141HP4LYPW', 'B003AI2VGA', '3.0'),\n",
    " ('B000063W1R', 'A141HP4LYPW', '4.0'),\n",
    " ('6304286961', 'A141HP4LYPW', '5.0'),\n",
    " ('A141HP4LYPW', '5556167281', '5.0')]\n",
    "print(lst_test)\n",
    "\n",
    "df_movies = amp.Reorganize_Edges_DataFrame(lst_test)\n",
    "print(df_movies)"
   ]
  },
  {
   "cell_type": "code",
   "execution_count": 81,
   "metadata": {},
   "outputs": [
    {
     "data": {
      "text/plain": [
       "array([[0., 0., 0., 0., 0.],\n",
       "       [0., 0., 0., 0., 0.],\n",
       "       [0., 0., 0., 0., 0.],\n",
       "       [0., 0., 0., 0., 0.],\n",
       "       [3., 4., 5., 5., 0.]])"
      ]
     },
     "execution_count": 81,
     "metadata": {},
     "output_type": "execute_result"
    }
   ],
   "source": [
    "P"
   ]
  },
  {
   "cell_type": "code",
   "execution_count": 25,
   "metadata": {},
   "outputs": [
    {
     "data": {
      "text/html": [
       "<div>\n",
       "<style scoped>\n",
       "    .dataframe tbody tr th:only-of-type {\n",
       "        vertical-align: middle;\n",
       "    }\n",
       "\n",
       "    .dataframe tbody tr th {\n",
       "        vertical-align: top;\n",
       "    }\n",
       "\n",
       "    .dataframe thead th {\n",
       "        text-align: right;\n",
       "    }\n",
       "</style>\n",
       "<table border=\"1\" class=\"dataframe\">\n",
       "  <thead>\n",
       "    <tr style=\"text-align: right;\">\n",
       "      <th></th>\n",
       "      <th>userId</th>\n",
       "      <th>movieId</th>\n",
       "      <th>score</th>\n",
       "    </tr>\n",
       "  </thead>\n",
       "  <tbody>\n",
       "    <tr>\n",
       "      <th>0</th>\n",
       "      <td>B003AI2VGA</td>\n",
       "      <td>A141HP4LYPW</td>\n",
       "      <td>3.0</td>\n",
       "    </tr>\n",
       "  </tbody>\n",
       "</table>\n",
       "</div>"
      ],
      "text/plain": [
       "       userId      movieId score\n",
       "0  B003AI2VGA  A141HP4LYPW   3.0"
      ]
     },
     "execution_count": 25,
     "metadata": {},
     "output_type": "execute_result"
    }
   ],
   "source": [
    "df_movies.loc[(df_movies['userId'] == 'B003AI2VGA') & (df_movies['movieId'] == 'A141HP4LYPW')]"
   ]
  },
  {
   "cell_type": "code",
   "execution_count": 68,
   "metadata": {},
   "outputs": [
    {
     "data": {
      "text/plain": [
       "numpy.ndarray"
      ]
     },
     "execution_count": 68,
     "metadata": {},
     "output_type": "execute_result"
    }
   ],
   "source": [
    "type(df_movies['movieId'].unique())"
   ]
  },
  {
   "cell_type": "code",
   "execution_count": 53,
   "metadata": {},
   "outputs": [
    {
     "name": "stdout",
     "output_type": "stream",
     "text": [
      "no edge found\n"
     ]
    }
   ],
   "source": [
    "#edge_index = df_movies.query(\"movieId == 'A141HP4LYPW' and userId == 'B003AI2VGA'\").index\n",
    "edge_index = df_movies.query(\"movieId == 'A141HP4LYPW' and userId == 'B003AI2VGAzzzzz'\").index\n",
    "# below returns series (pandas.core.series.Series) because\n",
    "# type(edge_index) = pandas.core.indexes.numeric.Int64Index\n",
    "# edge_index = Int64Index([0], dtype='int64')\n",
    "# we will assume that there will be ONLY 1 MATCH to our query (it must be so)\n",
    "# that's why, we will pick the 1st index\n",
    "# len(edge_index) !=0 mean\n",
    "if len(edge_index) != 0:\n",
    "    df_movies.iloc[edge_index[0], 2]\n",
    "else:\n",
    "    print('no edge found')\n",
    "#df_movies.loc[edge_index[0], 'score']"
   ]
  },
  {
   "cell_type": "code",
   "execution_count": 71,
   "metadata": {},
   "outputs": [
    {
     "name": "stdout",
     "output_type": "stream",
     "text": [
      "['B003AI2VGA' 'B000063W1R' '6304286961' '5556167281' 'A141HP4LYPW']\n"
     ]
    }
   ],
   "source": [
    "node_movies = df_movies['movieId'].unique()\n",
    "node_users = df_movies['userId'].unique()\n",
    "nodes = np.concatenate((node_users, node_movies), axis=0)\n",
    "print(nodes)"
   ]
  },
  {
   "cell_type": "code",
   "execution_count": 82,
   "metadata": {},
   "outputs": [],
   "source": [
    "node_movies = df_movies['movieId'].unique()\n",
    "node_users = df_movies['userId'].unique()\n",
    "nodes = np.concatenate((node_users, node_movies), axis=0)\n",
    "n_nodes = len(nodes)\n",
    "P = np.zeros((n_nodes, n_nodes))\n",
    "\n",
    "i = 0\n",
    "for n_r in nodes:\n",
    "    j = 0\n",
    "    for n_c in nodes:\n",
    "        edge_index = df_movies.query(\"movieId == '\" + n_r + \"' and userId == '\" + n_c + \"'\").index\n",
    "        if len(edge_index) != 0:\n",
    "            P[i][j] = df_movies.iloc[edge_index[0], 2]\n",
    "            P[j][i] = P[i][j]\n",
    "        j += 1\n",
    "    i += 1\n",
    "        "
   ]
  },
  {
   "cell_type": "code",
   "execution_count": 91,
   "metadata": {},
   "outputs": [
    {
     "name": "stdout",
     "output_type": "stream",
     "text": [
      "[[0.         0.         0.         0.         1.        ]\n",
      " [0.         0.         0.         0.         1.        ]\n",
      " [0.         0.         0.         0.         1.        ]\n",
      " [0.         0.         0.         0.         1.        ]\n",
      " [0.17647059 0.23529412 0.29411765 0.29411765 0.        ]]\n"
     ]
    }
   ],
   "source": [
    "P_norm = Normalize_Array(P)\n",
    "print(P_norm)"
   ]
  },
  {
   "cell_type": "code",
   "execution_count": 111,
   "metadata": {},
   "outputs": [
    {
     "data": {
      "text/plain": [
       "array([[0.      , 0.      , 0.      , 0.      , 1.      ],\n",
       "       [0.      , 0.      , 0.      , 0.      , 1.      ],\n",
       "       [0.      , 0.      , 0.      , 0.      , 1.      ],\n",
       "       [0.      , 0.      , 0.      , 0.      , 1.      ],\n",
       "       [0.176471, 0.235294, 0.294118, 0.294118, 0.      ]])"
      ]
     },
     "execution_count": 111,
     "metadata": {},
     "output_type": "execute_result"
    }
   ],
   "source": [
    "np.round(P_norm, 6)"
   ]
  },
  {
   "cell_type": "code",
   "execution_count": 106,
   "metadata": {},
   "outputs": [],
   "source": [
    "savetxt('data.csv', P, delimiter=',')"
   ]
  },
  {
   "cell_type": "code",
   "execution_count": null,
   "metadata": {},
   "outputs": [],
   "source": [
    "data = loadtxt('data.csv', delimiter=',')"
   ]
  },
  {
   "cell_type": "code",
   "execution_count": null,
   "metadata": {},
   "outputs": [],
   "source": [
    "arr_sum_per_row = arr_to_normalize.sum(axis=1)\n",
    "arr_norm = arr_to_normalize/np.tile(arr_sum_per_row, (arr_sum_per_row.shape[0], 1)).T"
   ]
  }
 ],
 "metadata": {
  "colab": {
   "collapsed_sections": [],
   "name": "Amazon_movies.ipynb",
   "provenance": []
  },
  "kernelspec": {
   "display_name": "Python 3",
   "language": "python",
   "name": "python3"
  },
  "language_info": {
   "codemirror_mode": {
    "name": "ipython",
    "version": 3
   },
   "file_extension": ".py",
   "mimetype": "text/x-python",
   "name": "python",
   "nbconvert_exporter": "python",
   "pygments_lexer": "ipython3",
   "version": "3.7.1"
  }
 },
 "nbformat": 4,
 "nbformat_minor": 1
}
