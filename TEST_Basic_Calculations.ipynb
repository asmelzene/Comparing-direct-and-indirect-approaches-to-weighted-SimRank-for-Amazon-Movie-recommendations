{
 "cells": [
  {
   "cell_type": "code",
   "execution_count": 105,
   "metadata": {},
   "outputs": [],
   "source": [
    "import numpy as np\n",
    "import Amazon_Movie_Parser as amp\n",
    "# save numpy array as csv file\n",
    "from numpy import savetxt\n",
    "# load numpy array from csv file\n",
    "from numpy import loadtxt"
   ]
  },
  {
   "cell_type": "code",
   "execution_count": 86,
   "metadata": {},
   "outputs": [
    {
     "name": "stdout",
     "output_type": "stream",
     "text": [
      "[12 14 30]\n",
      "[[12 12 12]\n",
      " [14 14 14]\n",
      " [30 30 30]]\n",
      "[[0.16666667 0.33333333 0.5       ]\n",
      " [0.07142857 0.35714286 0.57142857]\n",
      " [0.66666667 0.13333333 0.2       ]]\n"
     ]
    }
   ],
   "source": [
    "# Normalization test\n",
    "tt = np.array([[2, 4, 6], [1, 5, 8], [20, 4, 6]])\n",
    "#print(tt.mean(axis=1))\n",
    "#tt_norm=tt/tt.mean(axis=1)\n",
    "tt_sum = tt.sum(axis=1)\n",
    "print(tt.sum(axis=1))\n",
    "print(np.tile(tt_sum, (3, 1)).T)\n",
    "# divide each element in the row with the sum of the row so the sum will be equal to 1\n",
    "tt_norm=tt/np.tile(tt_sum, (3, 1)).T\n",
    "print(tt_norm)"
   ]
  },
  {
   "cell_type": "code",
   "execution_count": 101,
   "metadata": {},
   "outputs": [],
   "source": [
    "def Normalize_Array(arr_to_normalize):\n",
    "    arr_sum_per_row = arr_to_normalize.sum(axis=1)\n",
    "    arr_norm = arr_to_normalize/np.tile(arr_sum_per_row, (arr_sum_per_row.shape[0], 1)).T\n",
    "    return arr_norm"
   ]
  },
  {
   "cell_type": "code",
   "execution_count": 53,
   "metadata": {},
   "outputs": [
    {
     "name": "stdout",
     "output_type": "stream",
     "text": [
      "no edge found\n"
     ]
    }
   ],
   "source": [
    "#edge_index = df_movies.query(\"movieId == 'A141HP4LYPW' and userId == 'B003AI2VGA'\").index\n",
    "edge_index = df_movies.query(\"movieId == 'A141HP4LYPW' and userId == 'B003AI2VGAzzzzz'\").index\n",
    "if len(edge_index) != 0:\n",
    "    df_movies.iloc[edge_index[0], 2]\n",
    "else:\n",
    "    print('no edge found')\n",
    "#df_movies.loc[edge_index[0], 'score']"
   ]
  },
  {
   "cell_type": "code",
   "execution_count": null,
   "metadata": {},
   "outputs": [],
   "source": [
    "arr_sum_per_row = arr_to_normalize.sum(axis=1)\n",
    "arr_norm = arr_to_normalize/np.tile(arr_sum_per_row, (arr_sum_per_row.shape[0], 1)).T"
   ]
  },
  {
   "cell_type": "code",
   "execution_count": 228,
   "metadata": {},
   "outputs": [],
   "source": [
    "# create a sample graph with edges\n",
    "def create_sample_graph(lst_test):\n",
    "    lst_test = [('A141HP4LYPW', 'B003AI2VGA', '3.0'),\n",
    "     ('B000063W1R', 'A141HP4LYPW', '4.0'),\n",
    "     ('6304286961', 'A141HP4LYPW', '5.0'),\n",
    "     ('A141HP4LYPW', '5556167281', '5.0')]\n",
    "    print(lst_test)\n",
    "\n",
    "    df_movies = amp.Reorganize_Edges_DataFrame(lst_test)\n",
    "    \n",
    "    return df_movies"
   ]
  },
  {
   "cell_type": "code",
   "execution_count": 249,
   "metadata": {},
   "outputs": [],
   "source": [
    "def define_P_R(df_movies):\n",
    "    node_movies = df_movies['movieId'].unique()\n",
    "    node_users = df_movies['userId'].unique()\n",
    "    nodes = np.concatenate((node_users, node_movies), axis=0)\n",
    "    print('nodes = {}'.format(nodes))\n",
    "    n_nodes = len(nodes)\n",
    "    P = np.zeros((n_nodes, n_nodes))\n",
    "\n",
    "    i = 0\n",
    "    for n_r in nodes:\n",
    "        j = 0\n",
    "        for n_c in nodes:\n",
    "            edge_index = df_movies.query(\"movieId == '\" + n_r + \"' and userId == '\" + n_c + \"'\").index\n",
    "            if len(edge_index) != 0:\n",
    "                P[i][j] = df_movies.iloc[edge_index[0], 2]\n",
    "                P[j][i] = P[i][j]\n",
    "            j += 1\n",
    "        i += 1\n",
    "        \n",
    "    P_norm = Normalize_Array(P)\n",
    "    R = np.diag(np.ones(n_nodes), 0)\n",
    "    beta = 0.15\n",
    "    #R *= beta\n",
    "    R_zero = R.copy()\n",
    "        \n",
    "    return P_norm, R, R_zero"
   ]
  },
  {
   "cell_type": "code",
   "execution_count": 250,
   "metadata": {},
   "outputs": [
    {
     "name": "stdout",
     "output_type": "stream",
     "text": [
      "[('A141HP4LYPW', 'B003AI2VGA', '3.0'), ('B000063W1R', 'A141HP4LYPW', '4.0'), ('6304286961', 'A141HP4LYPW', '5.0'), ('A141HP4LYPW', '5556167281', '5.0')]\n",
      "Graph has been reorganized as a DataFrame, row format: ['userId', 'movieId', 'score']\n",
      "nodes = ['B003AI2VGA' 'B000063W1R' '6304286961' '5556167281' 'A141HP4LYPW']\n",
      "[[1. 0. 0. 0. 0.]\n",
      " [0. 1. 0. 0. 0.]\n",
      " [0. 0. 1. 0. 0.]\n",
      " [0. 0. 0. 1. 0.]\n",
      " [0. 0. 0. 0. 1.]]\n",
      "[[0.         0.         0.         0.         1.        ]\n",
      " [0.         0.         0.         0.         1.        ]\n",
      " [0.         0.         0.         0.         1.        ]\n",
      " [0.         0.         0.         0.         1.        ]\n",
      " [0.17647059 0.23529412 0.29411765 0.29411765 0.        ]]\n"
     ]
    }
   ],
   "source": [
    "# Preparation and random walk\n",
    "df_movies = create_sample_graph(lst_test)\n",
    "P, R, R_zero = define_P_R(df_movies)\n",
    "print(R)\n",
    "print(P)\n",
    "#savetxt(amp.FileNameUnique(prefix = \"P_norm_\", suffix = '.csv'), P_norm, delimiter=',')"
   ]
  },
  {
   "cell_type": "code",
   "execution_count": 241,
   "metadata": {},
   "outputs": [],
   "source": [
    "R_P = R.copy()\n",
    "R_R = R.copy()"
   ]
  },
  {
   "cell_type": "code",
   "execution_count": 259,
   "metadata": {},
   "outputs": [
    {
     "name": "stdout",
     "output_type": "stream",
     "text": [
      "[[0.23488171 0.11317561 0.14146951 0.14146951 0.36900365]\n",
      " [0.08488171 0.26317561 0.14146951 0.14146951 0.36900365]\n",
      " [0.08488171 0.11317561 0.29146951 0.14146951 0.36900365]\n",
      " [0.08488171 0.11317561 0.14146951 0.29146951 0.36900365]\n",
      " [0.06511829 0.08682439 0.10853049 0.10853049 0.63099635]]\n",
      "[[0.23488171 0.11317561 0.14146951 0.14146951 0.36900365]\n",
      " [0.08488171 0.26317561 0.14146951 0.14146951 0.36900365]\n",
      " [0.08488171 0.11317561 0.29146951 0.14146951 0.36900365]\n",
      " [0.08488171 0.11317561 0.14146951 0.29146951 0.36900365]\n",
      " [0.06511829 0.08682439 0.10853049 0.10853049 0.63099635]]\n"
     ]
    }
   ],
   "source": [
    "R_P = (1-beta)*np.dot(P_norm, R_P) + beta*R_zero\n",
    "print(R_P)\n",
    "\n",
    "# since there is no direction, using P or R as \n",
    "R_R = (1-beta)*np.dot(R_R, P_norm) + beta*R_zero\n",
    "print(R_R)"
   ]
  }
 ],
 "metadata": {
  "colab": {
   "collapsed_sections": [],
   "name": "Amazon_movies.ipynb",
   "provenance": []
  },
  "kernelspec": {
   "display_name": "Python 3",
   "language": "python",
   "name": "python3"
  },
  "language_info": {
   "codemirror_mode": {
    "name": "ipython",
    "version": 3
   },
   "file_extension": ".py",
   "mimetype": "text/x-python",
   "name": "python",
   "nbconvert_exporter": "python",
   "pygments_lexer": "ipython3",
   "version": "3.7.1"
  }
 },
 "nbformat": 4,
 "nbformat_minor": 1
}
